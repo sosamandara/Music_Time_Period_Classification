{
 "cells": [
  {
   "attachments": {},
   "cell_type": "markdown",
   "metadata": {},
   "source": [
    "# Spotify Songs'Decade Classification Dataset"
   ]
  },
  {
   "attachments": {},
   "cell_type": "markdown",
   "metadata": {},
   "source": [
    "**Import**"
   ]
  },
  {
   "cell_type": "code",
   "execution_count": 1,
   "metadata": {},
   "outputs": [],
   "source": [
    "import warnings\n",
    "warnings.filterwarnings(\"ignore\")\n",
    "import spotipy\n",
    "from spotipy.oauth2 import SpotifyClientCredentials\n",
    "import pandas as pd\n",
    "import numpy as np"
   ]
  },
  {
   "attachments": {},
   "cell_type": "markdown",
   "metadata": {},
   "source": [
    "*Spotify Credentials and Authentication*"
   ]
  },
  {
   "cell_type": "code",
   "execution_count": 2,
   "metadata": {},
   "outputs": [],
   "source": [
    "CLIENT_ID= ''\n",
    "SECRET_CLIENT_ID = ''\n",
    "\n",
    "spotify = spotipy.Spotify(client_credentials_manager=SpotifyClientCredentials(client_id=CLIENT_ID,client_secret=SECRET_CLIENT_ID))\n"
   ]
  },
  {
   "attachments": {},
   "cell_type": "markdown",
   "metadata": {},
   "source": [
    "## Track Class"
   ]
  },
  {
   "cell_type": "code",
   "execution_count": 3,
   "metadata": {},
   "outputs": [],
   "source": [
    "class Track:\n",
    "    def __init__(self,uri,name,decade):\n",
    "        self.uri = uri\n",
    "        self.name = name\n",
    "        self.decade = decade\n",
    "    \n",
    "    def __eq__(self, other):\n",
    "        if not isinstance(other,Track):\n",
    "            return False\n",
    "        return (set(self.name) == set(other.name) and\n",
    "                set(self.uri) == set(other.uri))\n",
    "    \n",
    "    def __hash__(self):\n",
    "        return hash((self.name,self.uri))\n",
    "    \n",
    "    def __str__(self):\n",
    "        return f'Song: {self.name}, Decade: {self.decade}'"
   ]
  },
  {
   "attachments": {},
   "cell_type": "markdown",
   "metadata": {},
   "source": [
    "## Functions to build dataset"
   ]
  },
  {
   "attachments": {},
   "cell_type": "markdown",
   "metadata": {},
   "source": [
    "### Find Spotify playlists by decade"
   ]
  },
  {
   "cell_type": "code",
   "execution_count": 4,
   "metadata": {},
   "outputs": [],
   "source": [
    "def search_playlists_by_decade(decade,spotify):\n",
    "    query = f'{decade} HITS'\n",
    "    try:\n",
    "        results = spotify.search(query, type='playlist', limit=50) #Only 5 playlists, can be increased\n",
    "    except Exception as e:\n",
    "        print(e)\n",
    "    res = []\n",
    "    playlists = results['playlists']['items']\n",
    "    for playlist in playlists:\n",
    "        playlist_uri = playlist['uri']\n",
    "        playlist_name = playlist['name']\n",
    "        playlist_id = playlist['id']\n",
    "        print(playlist_name)\n",
    "        res.append({'name':playlist_name,'id':playlist_id,'uri':playlist_uri})\n",
    "    return(res)\n"
   ]
  },
  {
   "cell_type": "code",
   "execution_count": 5,
   "metadata": {},
   "outputs": [
    {
     "name": "stdout",
     "output_type": "stream",
     "text": [
      "2010s HITS | TOP 100 SONGS 🔥\n",
      "Party Hits 2010s\n",
      "2010s Hits\n",
      "The Party Hits of the 2010s\n",
      "2010s Hits Workout\n",
      "Summer Hits 2023\n",
      "2010s Hits | Spotify\n",
      "All Out 2010s\n",
      "2010s Hits Clean\n",
      "Party Hits\n",
      "2010s Hits Essentials\n",
      "Top Hits of 2010\n",
      "POP LATINO : 90s, 2000s & 2010s Hits\n",
      "I Love My '10s R&B\n",
      "Pop Inglés 🌼 (2023 & 2020s & 2010s) Música En Inglés 2010s Hits \n",
      "Party Hits 2000s\n",
      "2000's and 2010's Hits\n",
      "I Love My 2010s Hip-Hop\n",
      "best of 2010s hits\n",
      "Summer Hits of the 00s\n",
      "Mid & Late 2010's Hits\n",
      "10s Ballads\n",
      "Hindi 2010s Hits\n",
      "10s Latino\n",
      "Tamil 2010s Hits\n",
      "Headliners\n",
      "Remember 2010s Hits\n",
      "The Party Hits of the 2010s\n",
      "Gym Teacher Playlist (early 2010s  hits) 🕺🏻\n",
      "Dance Hits 2010s\n",
      "Musica latina vieja 2000s & 2010s Hits | Pop latino 2023 | Pop viejo \n",
      "Party Hits 2010's\n",
      "2000s-2010s hits\n",
      "Top Party Hits of 2022\n",
      "Greatest Hits 2010-2019 | Best of 2010s Hits\n",
      "10s Pop Rock\n",
      "tiktok throwbacks 💽 80s 90s 00s 2010s hits\n",
      "Latin Hits 2010\n",
      "POP inglés 🎶🔥 (2020s & 2000s ) Músicas En Inglés 2010s Hits  \n",
      "Good Feeling 10s\n",
      "2000s-2010s hits that are too good to skip\n",
      "Deep Dive: 10s Pop\n",
      "Hip-hop 90's 2000's, 2010's hits en ingles\n",
      "Hits Français 2010\n",
      "Malayalam 2010s Hits (2010-2019)\n",
      "Summer Hits 2023\n",
      "Early 2010s Hits Playlist - Best Songs of the Early 2010s\n",
      "B2B: 2010s x 2022\n",
      "Pop Ingles🌼(2023&2022s&2010)Musica En Ingles 2010s Hits\n",
      "Latin Hits 2019\n"
     ]
    }
   ],
   "source": [
    "decade = '2010s' #Cambiare qui per cercare altre decadi\n",
    "playlists =search_playlists_by_decade(decade,spotify) #potrebbe dare errore 404 riprovate a stecca finchè non va"
   ]
  },
  {
   "attachments": {},
   "cell_type": "markdown",
   "metadata": {},
   "source": [
    "### Get all the tracks from a list of Spotify playlists"
   ]
  },
  {
   "cell_type": "code",
   "execution_count": 6,
   "metadata": {},
   "outputs": [],
   "source": [
    "def get_all_tracks_from_playlist_uri(playlist_id,decade,spotify,tracks_to_insert):\n",
    "    response_items= spotify.playlist_tracks(playlist_id)['items']\n",
    "    for item in response_items:\n",
    "        track = item['track']\n",
    "        tr = Track(track['uri'],track['name'],decade)\n",
    "        tracks_to_insert.add(tr)\n",
    "\n",
    "\n",
    "def get_all_playlists_tracks(playlists,decade,spotify):\n",
    "    tracks_to_insert=set([])\n",
    "    for pl in playlists:\n",
    "        #print(pl)\n",
    "        get_all_tracks_from_playlist_uri(pl['id'],decade,spotify,tracks_to_insert)\n",
    "    return tracks_to_insert"
   ]
  },
  {
   "cell_type": "code",
   "execution_count": 7,
   "metadata": {},
   "outputs": [],
   "source": [
    "tracks_to_insert = get_all_playlists_tracks(playlists,decade,spotify)"
   ]
  },
  {
   "cell_type": "code",
   "execution_count": 8,
   "metadata": {},
   "outputs": [
    {
     "data": {
      "text/plain": [
       "2852"
      ]
     },
     "execution_count": 8,
     "metadata": {},
     "output_type": "execute_result"
    }
   ],
   "source": [
    "len(tracks_to_insert)"
   ]
  },
  {
   "cell_type": "code",
   "execution_count": 9,
   "metadata": {},
   "outputs": [
    {
     "name": "stdout",
     "output_type": "stream",
     "text": [
      "Song: Beam Me Up - Radio Edit, Decade: 2010s Song: Summertime Sadness, Decade: 2010s Song: I AM WOMAN, Decade: 2010s Song: COCO LOCO, Decade: 2010s Song: We Are Never Ever Getting Back Together (Taylor's Version), Decade: 2010s Song: Rush, Decade: 2010s Song: Revolution (feat. Faustix & Imanos and Kai), Decade: 2010s Song: Stamp On The Ground, Decade: 2010s Song: Party Rock Anthem, Decade: 2010s Song: Play That Song, Decade: 2010s Song: Worth It (feat. Kid Ink), Decade: 2010s Song: Price Tag, Decade: 2010s Song: Un Siglo Sin Ti, Decade: 2010s Song: Way down We Go, Decade: 2010s Song: Cuando nadie me ve, Decade: 2010s Song: Yo x Ti, Tu x Mi, Decade: 2010s Song: Astronaut, Decade: 2010s Song: Brave, Decade: 2010s Song: Quevedo: Bzrp Music Sessions, Vol. 52, Decade: 2010s Song: Char Baj Gaye (From \"F.A.L.T.U\") - Party Abhi Baaki Hai, Decade: 2010s Song: Can I Have This Dance, Decade: 2010s Song: Habits (Stay High), Decade: 2010s Song: Girls Like (feat. Zara Larsson), Decade: 2010s Song: Disturbia, Decade: 2010s Song: Without You (feat. Usher), Decade: 2010s Song: California Gurls, Decade: 2010s Song: Murder In My Mind, Decade: 2010s Song: Earned It (Fifty Shades Of Grey), Decade: 2010s Song: Desi Girl, Decade: 2010s Song: Cooler Than Me - Single Mix, Decade: 2010s Song: What We Live For, Decade: 2010s Song: Zusammen feat. Clueso, Decade: 2010s Song: Get You (feat. Kali Uchis), Decade: 2010s Song: Some Nights, Decade: 2010s Song: Truth Hurts, Decade: 2010s Song: New Rules, Decade: 2010s Song: More Than You Know, Decade: 2010s Song: Let Me Love You, Decade: 2010s Song: Dark Horse, Decade: 2010s Song: Ajab Gazabb Love (From \"Ajab Gazabb Love\"), Decade: 2010s Song: Say Something, Decade: 2010s Song: Scars To Your Beautiful, Decade: 2010s Song: Attention, Decade: 2010s Song: I'm On One, Decade: 2010s Song: Where Are Ü Now (with Justin Bieber), Decade: 2010s Song: Heads Will Roll - A-Trak Remix, Decade: 2010s Song: Sin miedo a nada (feat. Amaia Montero), Decade: 2010s Song: Diamonds, Decade: 2010s Song: Party In The U.S.A., Decade: 2010s Song: Vizhiyile Vizhiyile, Decade: 2010s Song: Un Año, Decade: 2010s Song: Weekend (feat. Miguel), Decade: 2010s Song: She Wolf, Decade: 2010s Song: Chimmi Chimmi, Decade: 2010s Song: Rockabye (feat. Sean Paul & Anne-Marie), Decade: 2010s Song: Baby, Decade: 2010s Song: Die Hard, Decade: 2010s Song: Don't Let Me Down, Decade: 2010s Song: Il est où le bonheur, Decade: 2010s Song: No Role Modelz, Decade: 2010s Song: Honesty, Decade: 2010s Song: Heartbeat Song, Decade: 2010s Song: Let's Get Loud, Decade: 2010s Song: If the World Was Ending (feat. Julia Michaels), Decade: 2010s Song: Shirt, Decade: 2010s Song: Softcore, Decade: 2010s Song: Contando Lunares (feat. Cruz Cafuné), Decade: 2010s Song: un x100to, Decade: 2010s Song: Gun Gun Guna, Decade: 2010s Song: Going Bad (feat. Drake), Decade: 2010s Song: You Said You'd Grow Old With Me, Decade: 2010s Song: WITHOUT YOU (with Miley Cyrus), Decade: 2010s Song: Whatever You Like, Decade: 2010s Song: Callaita, Decade: 2010s Song: Get Into It (Yuh), Decade: 2010s Song: Balance ton quoi, Decade: 2010s Song: Deep, Decade: 2010s Song: Bandoleros, Decade: 2010s Song: Who's That Girl (feat. Eve), Decade: 2010s Song: It Girl, Decade: 2010s Song: Hug Me, Decade: 2010s Song: Like A G6, Decade: 2010s Song: All Eyez On Me (ft. Big Syke), Decade: 2010s Song: Smile, Decade: 2010s Song: PRBLMS, Decade: 2010s Song: De Los Besos Que Te Di, Decade: 2010s Song: La Bebe - Remix, Decade: 2010s Song: Love Yourself, Decade: 2010s Song: Bailando - Spanish Version, Decade: 2010s Song: Strangers, Decade: 2010s Song: Main Rang Sharbaton Ka (From \"Phata Poster Nikhla Hero\"), Decade: 2010s Song: Story of My Life, Decade: 2010s Song: Replay, Decade: 2010s Song: As Long As You Love Me, Decade: 2010s Song: The Story Of Us, Decade: 2010s Song: Bailar (feat. Elvis Crespo) - Radio Edit, Decade: 2010s Song: Arcade, Decade: 2010s Song: The Last Time, Decade: 2010s Song: STAY (with Justin Bieber), Decade: 2010s Song: Gettin' Over You (feat. Fergie & LMFAO), Decade: 2010s Song: Uptown Funk (feat. Bruno Mars), Decade: 2010s Song: Find Your Love, Decade: 2010s Song: All Of The Lights, Decade: 2010s Song: Eres para Mí (with Anita Tijoux), Decade: 2010s Song: Rasputin, Decade: 2010s Song: Super Bass, Decade: 2010s Song: S&M, Decade: 2010s Song: If We Ever Meet Again (Featuring Katy Perry), Decade: 2010s Song: I'm Good (Blue), Decade: 2010s Song: Beauty And A Beat, Decade: 2010s Song: Fight Song, Decade: 2010s Song: Dance Again (feat. Pitbull), Decade: 2010s Song: Just Dance, Decade: 2010s Song: Use Somebody, Decade: 2010s Song: I'm the One (feat. Justin Bieber, Quavo, Chance the Rapper & Lil Wayne), Decade: 2010s Song: Take It Off, Decade: 2010s Song: Scream & Shout, Decade: 2010s Song: Rockabye (feat. Sean Paul & Anne-Marie), Decade: 2010s Song: Million Reasons, Decade: 2010s Song: Body Like A Back Road, Decade: 2010s Song: Háblame De Ti, Decade: 2010s Song: Danza Kuduro, Decade: 2010s Song: Bésame, Decade: 2010s Song: It's My Party, Decade: 2010s Song: PILLOWTALK, Decade: 2010s Song: Rude Boy, Decade: 2010s Song: Congratulations, Decade: 2010s Song: Girls Need Love (with Drake) - Remix, Decade: 2010s Song: Get Up (Rattle) [feat. Far East Movement] - Vocal Edit, Decade: 2010s Song: Nevada, Decade: 2010s Song: Coconut Tree, Decade: 2010s Song: Thotte Thotte, Decade: 2010s Song: On The Floor, Decade: 2010s Song: Confident, Decade: 2010s Song: If Anything's Left, Decade: 2010s Song: Je veux, Decade: 2010s Song: Let It Go - From \"Frozen\"/Soundtrack Version, Decade: 2010s Song: Pop Out (feat. Lil Tjay), Decade: 2010s Song: BILLIE EILISH., Decade: 2010s Song: Ayayayoo Aananthamey, Decade: 2010s Song: Internet Friends, Decade: 2010s Song: Happy - From \"Despicable Me 2\", Decade: 2010s Song: Delicate, Decade: 2010s Song: God is a woman, Decade: 2010s Song: Andar Conmigo, Decade: 2010s Song: Copa Vacía, Decade: 2010s Song: Infinity 2008 - Klaas Vocal Edit, Decade: 2010s Song: Adan y Eva, Decade: 2010s Song: Misery, Decade: 2010s Song: Barbra Streisand, Decade: 2010s Song: Rock Me, Decade: 2010s Song: Oops!...I Did It Again, Decade: 2010s Song: Out Of My Mind, Decade: 2010s Song: Another Love, Decade: 2010s Song: HONEST, Decade: 2010s Song: 7 rings, Decade: 2010s Song: All of Me, Decade: 2010s Song: Streets, Decade: 2010s Song: Limbo, Decade: 2010s Song: Inolvidable, Decade: 2010s Song: I Kissed A Girl, Decade: 2010s Song: Se fué, Decade: 2010s Song: The Veldt - Radio Edit, Decade: 2010s Song: Princess Diana (with Nicki Minaj), Decade: 2010s Song: Harlem Shake, Decade: 2010s Song: La Jumpa, Decade: 2010s Song: Formation, Decade: 2010s Song: Party In The U.S.A., Decade: 2010s Song: Tsunami, Decade: 2010s Song: Bumpy Ride, Decade: 2010s Song: Dejaría Todo, Decade: 2010s Song: Shyamambaram, Decade: 2010s Song: Feel This Moment (feat. Christina Aguilera), Decade: 2010s Song: Una Aventura, Decade: 2010s Song: Escapism., Decade: 2010s Song: Envolver, Decade: 2010s Song: Was du Liebe nennst, Decade: 2010s Song: Better Days (NEIKED x Mae Muller x Polo G), Decade: 2010s Song: Let Me Go (with Alesso, Florida Georgia Line & watt), Decade: 2010s Song: Siempre Te Voy A Querer, Decade: 2010s Song: Angel, Decade: 2010s Song: All The Right Moves, Decade: 2010s Song: All I Want Is You (feat. J. Cole), Decade: 2010s Song: Don't Stop The Music, Decade: 2010s Song: Crying in the Club, Decade: 2010s Song: Too Good, Decade: 2010s Song: Sugar (feat. Francesco Yates), Decade: 2010s Song: Mine, Decade: 2010s Song: Love Don't Die, Decade: 2010s Song: Nangaai, Decade: 2010s Song: Shine A Light, Decade: 2010s Song: En Kanimalare, Decade: 2010s Song: Axel F, Decade: 2010s Song: HUMBLE., Decade: 2010s Song: Stir Fry, Decade: 2010s Song: Cinema - Skrillex Remix, Decade: 2010s Song: Sorry, Decade: 2010s Song: X, Decade: 2010s Song: Encantadora, Decade: 2010s Song: Bank Account, Decade: 2010s Song: No Money, Decade: 2010s Song: Olanjali Kuruvi, Decade: 2010s Song: Complicated, Decade: 2010s Song: Chanel, Decade: 2010s Song: Banarasiya, Decade: 2010s Song: Engeyum Kaadhal, Decade: 2010s Song: Beautiful People, Decade: 2010s Song: Carry On (from the Original Motion Picture \"POKÉMON Detective Pikachu\"), Decade: 2010s Song: Get the Party Started, Decade: 2010s Song: We Won't Be Shaken, Decade: 2010s Song: What It Is (Solo Version), Decade: 2010s Song: Venaam Machan, Decade: 2010s Song: Power Trip (feat. Miguel), Decade: 2010s Song: Love Me Like You, Decade: 2010s Song: Electricity (with Dua Lipa), Decade: 2010s Song: Say Amen (Saturday Night), Decade: 2010s Song: Dreams and Nightmares, Decade: 2010s Song: Jab Mila Tu, Decade: 2010s Song: Payphone, Decade: 2010s Song: Con Altura, Decade: 2010s Song: Yandel 150, Decade: 2010s Song: As Long As You Love Me, Decade: 2010s Song: when the party's over, Decade: 2010s Song: Lucid Dreams, Decade: 2010s Song: Titanium - feat. Sia, Decade: 2010s Song: ME! (feat. Brendon Urie of Panic! At The Disco), Decade: 2010s Song: De Música Ligera, Decade: 2010s Song: Burn, Decade: 2010s Song: One, Two Step (feat. Missy Elliott), Decade: 2010s Song: Big City Life, Decade: 2010s Song: E.T., Decade: 2010s Song: Jungle, Decade: 2010s Song: It's All Coming Back to Me Now, Decade: 2010s Song: Onnum Puriyala, Decade: 2010s Song: Stay With Me (with Justin Timberlake, Halsey, & Pharrell), Decade: 2010s Song: ¡Corre!, Decade: 2010s Song: I Write Sins Not Tragedies, Decade: 2010s Song: De Janeiro a Janeiro, Decade: 2010s Song: How We Do, Decade: 2010s Song: Cheerleader - Felix Jaehn Remix Radio Edit, Decade: 2010s Song: Karma Is A Bitch (From \"Shor in the City \"), Decade: 2010s Song: Rest Of My Life, Decade: 2010s Song: Karmukilin, Decade: 2010s Song: Kannondu Chollanu, Decade: 2010s Song: We Are Young (feat. Janelle Monáe), Decade: 2010s Song: Freaks - Radio Edit, Decade: 2010s Song: I Found, Decade: 2010s Song: REACT, Decade: 2010s Song: Sunflower - Spider-Man: Into the Spider-Verse, Decade: 2010s Song: This Girl (Kungs Vs. Cookin' On 3 Burners), Decade: 2010s Song: Hold Me Closer, Decade: 2010s Song: Fight Night, Decade: 2010s Song: DESPECHÁ, Decade: 2010s Song: Manpaatha, Decade: 2010s Song: Papaoutai, Decade: 2010s Song: Inevitable, Decade: 2010s Song: Halo, Decade: 2010s Song: Riot, Decade: 2010s Song: Colors, Decade: 2010s Song: Ain't Nobody (Loves Me Better), Decade: 2010s Song: Felices los 4, Decade: 2010s Song: Baila Mi Corazón, Decade: 2010s Song: Still D.R.E., Decade: 2010s Song: Me La Avente, Decade: 2010s Song: Relax My Eyes, Decade: 2010s Song: Tiburon, Decade: 2010s Song: I Get the Bag (feat. Migos), Decade: 2010s Song: Ay Sakhi, Decade: 2010s Song: Lottery (feat. LU KALA), Decade: 2010s Song: Girls Like You (feat. Cardi B), Decade: 2010s Song: BREAK MY SOUL, Decade: 2010s Song: Superheroes, Decade: 2010s Song: You're On Your Own, Kid, Decade: 2010s Song: Vaanam Mella, Decade: 2010s Song: Fancy, Decade: 2010s Song: Last Last, Decade: 2010s Song: World Hold on (Children of the Sky) [Radio Edit], Decade: 2010s Song: Memories (feat. Kid Cudi), Decade: 2010s Song: La Complicidad, Decade: 2010s Song: Malibu, Decade: 2010s Song: Crying On The Dancefloor, Decade: 2010s Song: Harder, Better, Faster, Stronger, Decade: 2010s Song: Kiss Me More (feat. SZA), Decade: 2010s Song: A Través del Vaso, Decade: 2010s Song: Your Song - Bonus Track, Decade: 2010s Song: Finesse - Remix; feat. Cardi B, Decade: 2010s Song: Mr. Brightside, Decade: 2010s Song: Lost on You, Decade: 2010s Song: Rasputin, Decade: 2010s Song: Five More Hours, Decade: 2010s Song: Night Changes, Decade: 2010s Song: First Day Out, Decade: 2010s Song: Whatcha Say, Decade: 2010s Song: Do It Again, Decade: 2010s Song: Nonstop, Decade: 2010s Song: So What, Decade: 2010s Song: Propeller (feat. Dave & BNXN), Decade: 2010s Song: Jimmy, Decade: 2010s Song: Ishq Barse (From \"Raajneeti\"), Decade: 2010s Song: Blow, Decade: 2010s Song: Dura, Decade: 2010s Song: And So It Goes, Decade: 2010s Song: Unakkulle Mirugam, Decade: 2010s Song: Black and Yellow, Decade: 2010s Song: La Morena, Decade: 2010s Song: Velicha Poove, Decade: 2010s Song: Conga!, Decade: 2010s Song: Noticed, Decade: 2010s Song: Stole My Heart, Decade: 2010s Song: Heart Attack, Decade: 2010s Song: Adore You, Decade: 2010s Song: Down, Decade: 2010s Song: Pretty Shining People, Decade: 2010s Song: Get Right, Decade: 2010s Song: La Despedida, Decade: 2010s Song: Alejandro, Decade: 2010s Song: Made You Look, Decade: 2010s Song: Kannukkul Kannai, Decade: 2010s Song: Crazy, Decade: 2010s Song: Deep Down (feat. Never Dull), Decade: 2010s Song: Love You More, Decade: 2010s Song: Can't Get You out of My Head, Decade: 2010s Song: A quien tú decidiste amar, Decade: 2010s Song: No Flockin', Decade: 2010s Song: Soltera (Remix), Decade: 2010s Song: MIA, Decade: 2010s Song: Levitating (feat. DaBaby), Decade: 2010s Song: Fête de trop, Decade: 2010s Song: Raise Your Glass, Decade: 2010s Song: Stay High - Habits Remix, Decade: 2010s Song: Good Grief, Decade: 2010s Song: Day 'N' Nite (Nightmare), Decade: 2010s Song: Gecko (Overdrive) - Radio Edit, Decade: 2010s Song: Thiruvaavaniraavu, Decade: 2010s Song: Reine, Decade: 2010s Song: Mama Said, Decade: 2010s Song: Losing It - Radio Edit, Decade: 2010s Song: Baila Baila Baila, Decade: 2010s Song: Hasta la Raíz, Decade: 2010s Song: Rise, Decade: 2010s Song: The Phoenix, Decade: 2010s Song: Don't Tell 'Em, Decade: 2010s Song: Scream, Decade: 2010s Song: Sol Sol, Decade: 2010s Song: LALA, Decade: 2010s Song: Easy On Me, Decade: 2010s Song: You & I, Decade: 2010s Song: L'Amour Toujours, Decade: 2010s Song: Want to Want Me, Decade: 2010s Song: Locked out of Heaven, Decade: 2010s Song: No Roots, Decade: 2010s Song: Outside Today, Decade: 2010s Song: Sun Goes Down (feat. Jasmine Thompson) - Radio Mix, Decade: 2010s Song: Ciega, Sordomuda, Decade: 2010s Song: Vishwaroopam, Decade: 2010s Song: The Ocean (feat. Shy Martin), Decade: 2010s Song: Drop That Low (When I Dip), Decade: 2010s Song: Sigues Con El, Decade: 2010s Song: Lose Yourself, Decade: 2010s Song: What Makes You Beautiful, Decade: 2010s Song: Tu Mun Shudi, Decade: 2010s Song: Kilimanjaro (with BEAM), Decade: 2010s Song: Do I Wanna Know?, Decade: 2010s Song: Wake Me Up, Decade: 2010s Song: 2002, Decade: 2010s Song: Antes de las Seis, Decade: 2010s Song: Grenade, Decade: 2010s Song: Gorilla, Decade: 2010s Song: Promise (feat. Usher), Decade: 2010s Song: Wild Thoughts (feat. Rihanna & Bryson Tiller), Decade: 2010s Song: Chulería en Pote, Decade: 2010s Song: Ethir Neechal, Decade: 2010s Song: Ayer, Decade: 2010s Song: Me And My Broken Heart, Decade: 2010s Song: Girls Like You, Decade: 2010s Song: Skinny Love, Decade: 2010s Song: Stay, Decade: 2010s Song: Molachu Moonu, Decade: 2010s Song: Pudikale Pudikudhu, Decade: 2010s Song: Tokyo Drift (Fast & Furious) - From \"The Fast And The Furious: Tokyo Drift\" Soundtrack, Decade: 2010s Song: El Problema, Decade: 2010s Song: Hold Up, Decade: 2010s Song: Don't Look Down (feat. Usher), Decade: 2010s Song: Give Me Everything (feat. Ne-Yo, Afrojack & Nayer), Decade: 2010s Song: Me Voy, Decade: 2010s Song: When Love Takes Over (feat. Kelly Rowland), Decade: 2010s Song: Someone Like You, Decade: 2010s Song: Work It, Decade: 2010s Song: Calling All Angels, Decade: 2010s Song: Gives You Hell, Decade: 2010s Song: High Fashion (feat. Mustard), Decade: 2010s Song: Payphone - Edit, Decade: 2010s Song: 7 Years, Decade: 2010s Song: That's My Girl, Decade: 2010s Song: Give Me Love, Decade: 2010s Song: Monster, Decade: 2010s Song: All Time Low, Decade: 2010s Song: Nobody's Business, Decade: 2010s Song: Miss Independent, Decade: 2010s Song: Yella Oorum, Decade: 2010s Song: Die Young, Decade: 2010s Song: I Feel It Coming, Decade: 2010s Song: Nenjil Nenjil, Decade: 2010s Song: Till the World Ends, Decade: 2010s Song: Promises - Skrillex & Nero Remix, Decade: 2010s Song: Pretty Little Fears (feat. J. Cole), Decade: 2010s Song: Pretty Girl Era, Decade: 2010s Song: Criminal, Decade: 2010s Song: Before He Cheats, Decade: 2010s Song: Chandelier, Decade: 2010s Song: Runaway, Decade: 2010s Song: X Gon' Give It To Ya, Decade: 2010s Song: WAIT FOR U (feat. Drake & Tems), Decade: 2010s Song: Tera Deedar Hua, Decade: 2010s Song: Call Me Maybe, Decade: 2010s Song: Prisoner (feat. Dua Lipa), Decade: 2010s Song: Fire Burning, Decade: 2010s Song: Where Them Girls At (feat. Nicki Minaj & Flo Rida), Decade: 2010s Song: This Is Love, Decade: 2010s Song: Quase Sem Querer - Ao Vivo, Decade: 2010s Song: My Love (feat. Jess Glynne), Decade: 2010s Song: Mama Said, Decade: 2010s Song: A Thousand Miles, Decade: 2010s Song: Bang Bang, Decade: 2010s Song: K-POP, Decade: 2010s Song: Lamento Boliviano, Decade: 2010s Song: Boy's a Liar Pt. 2, Decade: 2010s Song: Mood (feat. iann dior), Decade: 2010s Song: Pocket Full Of Gold, Decade: 2010s Song: Gold Digger, Decade: 2010s Song: International Love (feat. Chris Brown), Decade: 2010s Song: Rabiosa (feat. El Cata), Decade: 2010s Song: Circo Loco, Decade: 2010s Song: #Beautiful, Decade: 2010s Song: Amigo, Decade: 2010s Song: Skyfall, Decade: 2010s Song: Come & Get It, Decade: 2010s Song: F.N.F. (Let's Go), Decade: 2010s Song: Dandelions, Decade: 2010s Song: Changes, Decade: 2010s Song: I Got U, Decade: 2010s Song: Shake It Off, Decade: 2010s Song: Cheap Thrills (feat. Sean Paul), Decade: 2010s Song: Heartless, Decade: 2010s Song: Flores Amarillas, Decade: 2010s Song: Back To December - Acoustic, Decade: 2010s Song: Summer Days (feat. Macklemore & Patrick Stump of Fall Out Boy), Decade: 2010s Song: Dani California, Decade: 2010s Song: Treasure, Decade: 2010s Song: Ladders, Decade: 2010s Song: Steal My Girl, Decade: 2010s Song: Verte Ir, Decade: 2010s Song: Nila Nila, Decade: 2010s Song: Hate It Or Love It, Decade: 2010s Song: The Way I Are, Decade: 2010s Song: Demons, Decade: 2010s Song: Ayyayo, Decade: 2010s Song: On The Floor, Decade: 2010s Song: Solamente tú, Decade: 2010s Song: Valio la Pena, Decade: 2010s Song: Lonely, Decade: 2010s Song: You're Too Young, Decade: 2010s Song: Cherry, Decade: 2010s Song: Get Lucky (feat. Pharrell Williams and Nile Rodgers), Decade: 2010s Song: Raise Your Glass, Decade: 2010s Song: Afuera Del Planeta, Decade: 2010s Song: Budapest, Decade: 2010s Song: Right Here, Right Now, Decade: 2010s Song: It's Gonna Be Me, Decade: 2010s Song: Girlfriend, Decade: 2010s Song: Ya Lo Sé, Decade: 2010s Song: A Sky Full of Stars, Decade: 2010s Song: Don't Stop Believin' (Glee Cast Version) - Cover of Journey, Decade: 2010s Song: Bendita Tu Luz, Decade: 2010s Song: Je m'en vais, Decade: 2010s Song: Fuck You, Decade: 2010s Song: Coño, Decade: 2010s Song: Selfish, Decade: 2010s Song: Heroes (we could be), Decade: 2010s Song: Dejaría Todo, Decade: 2010s Song: Dancin (feat. Luvli) - Krono Remix, Decade: 2010s Song: Jackie Chan, Decade: 2010s Song: Another You, Decade: 2010s Song: Everybody Talks, Decade: 2010s Song: Daddy Issues, Decade: 2010s Song: Firework, Decade: 2010s Song: Hit Sale, Decade: 2010s Song: Say It Right - Main, Decade: 2010s Song: Vegas (From the Original Motion Picture Soundtrack ELVIS), Decade: 2010s Song: Kurbaan Hua, Decade: 2010s Song: Drip Too Hard (Lil Baby & Gunna), Decade: 2010s Song: Firework, Decade: 2010s Song: Dile Que Tu Me Quieres, Decade: 2010s Song: Amiga mía, Decade: 2010s Song: I Like It, Decade: 2010s Song: Battle Scars (with Guy Sebastian), Decade: 2010s Song: Transportin', Decade: 2010s Song: I Need Your Love (feat. Ellie Goulding), Decade: 2010s Song: Little Things, Decade: 2010s Song: Lat Lag Gayee (From \"Race 2\"), Decade: 2010s Song: Neela Maalaakhe, Decade: 2010s Song: Rolling in the Deep, Decade: 2010s Song: Toothbrush, Decade: 2010s Song: Wild Ones (feat. Sia), Decade: 2010s Song: Called Out In The Dark, Decade: 2010s Song: What Goes Around.../...Comes Around (Interlude), Decade: 2010s Song: Down, Decade: 2010s Song: Atrévete-Te-Te, Decade: 2010s Song: Tu Recuerdo (feat. La Mari De Chambao & Tommy Torres) - MTV Unplugged Version, Decade: 2010s Song: Purpose, Decade: 2010s Song: Unnale Unnale, Decade: 2010s Song: Pumped Up Kicks, Decade: 2010s Song: Baby, Decade: 2010s Song: I Hope, Decade: 2010s Song: Imma Be, Decade: 2010s Song: I Like You (A Happier Song) (with Doja Cat), Decade: 2010s Song: Dandelions - slowed + reverb, Decade: 2010s Song: Eenie Meenie, Decade: 2010s Song: This Is Why We Can't Have Nice Things, Decade: 2010s Song: La player (Bandolera), Decade: 2010s Song: Anbil Avan, Decade: 2010s Song: Crazy In Love (feat. Jay-Z), Decade: 2010s Song: boyfriend (with Social House), Decade: 2010s Song: Usure Pogudhey, Decade: 2010s Song: Bottoms Up (feat. Nicki Minaj), Decade: 2010s Song: Body Party, Decade: 2010s Song: Vilayaadu Mankatha, Decade: 2010s Song: One Kiss (with Dua Lipa), Decade: 2010s Song: Youngblood, Decade: 2010s Song: Mirrors, Decade: 2010s Song: Tú de Qué Vas, Decade: 2010s Song: What A Shame, Decade: 2010s Song: Baby, Decade: 2010s Song: Maneater, Decade: 2010s Song: Talk Dirty (feat. 2 Chainz), Decade: 2010s Song: Lionheart (Fearless), Decade: 2010s Song: Lieblingsmensch, Decade: 2010s Song: Hemanthamen, Decade: 2010s Song: No Sleep (feat. Bonn), Decade: 2010s Song: MIA (feat. Drake), Decade: 2010s Song: No Lie, Decade: 2010s Song: Dumb Love, Decade: 2010s Song: Mount Everest, Decade: 2010s Song: Mi No Lob, Decade: 2010s Song: Drive By, Decade: 2010s Song: Poker Face, Decade: 2010s Song: Promiscuous, Decade: 2010s Song: Alone, Decade: 2010s Song: Bad (feat. Vassy) - Radio Edit, Decade: 2010s Song: Smack That, Decade: 2010s Song: Lean On, Decade: 2010s Song: Skyscraper, Decade: 2010s Song: Sexy Bitch (feat. Akon), Decade: 2010s Song: Don't You Worry Child - Radio Edit, Decade: 2010s Song: We Can't Stop, Decade: 2010s Song: Singam Singam, Decade: 2010s Song: Demons, Decade: 2010s Song: The Anthem, Decade: 2010s Song: Diamonds, Decade: 2010s Song: Live Your Life - feat. Rihanna, Decade: 2010s Song: La soledad, Decade: 2010s Song: Watch This - ARIZONATEARS Pluggnb Remix, Decade: 2010s Song: Start Over, Decade: 2010s Song: You Make Me Feel... (feat. Sabi), Decade: 2010s Song: Cooler Than Me - Single Mix, Decade: 2010s Song: Bad At Love, Decade: 2010s Song: Swalla (feat. Nicki Minaj & Ty Dolla $ign), Decade: 2010s Song: Carry Out (Featuring Justin Timberlake), Decade: 2010s Song: Lights - Single Version, Decade: 2010s Song: While We're Young, Decade: 2010s Song: Do For Love, Decade: 2010s Song: Come Again, Decade: 2010s Song: Andalouse, Decade: 2010s Song: Tonight (I'm Fuckin' You), Decade: 2010s Song: Royals, Decade: 2010s Song: Te Dejo Madrid, Decade: 2010s Song: Best Part (feat. H.E.R.), Decade: 2010s Song: Cecilia And The Satellite, Decade: 2010s Song: Summer Nights, Decade: 2010s Song: QUE PRETENDES, Decade: 2010s Song: Ando Bien Pedo, Decade: 2010s Song: Sun Is Shining, Decade: 2010s Song: Gimme! Gimme! Gimme! (A Man After Midnight), Decade: 2010s Song: Just Can’t Get Enough, Decade: 2010s Song: The Hum, Decade: 2010s Song: Might Be - Remix, Decade: 2010s Song: Rock My Body, Decade: 2010s Song: The Lazy Song, Decade: 2010s Song: Pularikalo, Decade: 2010s Song: Candy Shop, Decade: 2010s Song: Never Going Back, Decade: 2010s Song: Scream & Shout, Decade: 2010s Song: Duele El Amor, Decade: 2010s Song: Taboo, Decade: 2010s Song: Thuppaki Engal Tholile, Decade: 2010s Song: Rum Whisky (From \"Vicky Donor\"), Decade: 2010s Song: Mi primer millon, Decade: 2010s Song: Wherever You Will Go, Decade: 2010s Song: Pursuit Of Happiness - Extended Steve Aoki Remix, Decade: 2010s Song: Ridin' Solo, Decade: 2010s Song: Hero, Decade: 2010s Song: Somebody To You, Decade: 2010s Song: Super Bass, Decade: 2010s Song: Radioactive, Decade: 2010s Song: Vaada Bin Laada, Decade: 2010s Song: I Like It Like That (feat. New Boyz), Decade: 2010s Song: Title, Decade: 2010s Song: Ya Me Enteré, Decade: 2010s Song: All My People, Decade: 2010s Song: Local Boys, Decade: 2010s Song: Poomuthole, Decade: 2010s Song: Oh My God, Decade: 2010s Song: Tera Hone Laga Hoon, Decade: 2010s Song: Good Feeling, Decade: 2010s Song: Money Trees, Decade: 2010s Song: Just the Way You Are, Decade: 2010s Song: Words (feat. Zara Larsson), Decade: 2010s Song: Bloodstream, Decade: 2010s Song: Somebody That I Used To Know, Decade: 2010s Song: Ramenez la coupe à la maison, Decade: 2010s Song: Heat Waves, Decade: 2010s Song: No Me Voy A Morir, Decade: 2010s Song: Trap Queen, Decade: 2010s Song: Firestone, Decade: 2010s Song: Style, Decade: 2010s Song: Columbia, Decade: 2010s Song: Happy - From \"Despicable Me 2\", Decade: 2010s Song: F**kin' Perfect, Decade: 2010s Song: Merry Go Round, Decade: 2010s Song: Treasure, Decade: 2010s Song: L'horloge tourne, Decade: 2010s Song: Jeevamshamayi (From \"Theevandi\"), Decade: 2010s Song: Stay Ready (What A Life), Decade: 2010s Song: Alaska, Decade: 2010s Song: Nation, Decade: 2010s Song: Por Eso Vine, Decade: 2010s Song: Cake By The Ocean, Decade: 2010s Song: Kaalangathale, Decade: 2010s Song: Dangerous Night, Decade: 2010s Song: One Last Time, Decade: 2010s Song: Careless Whisper, Decade: 2010s Song: P.I.M.P., Decade: 2010s Song: Maybe You’re The Problem, Decade: 2010s Song: Welcome To The Party, Decade: 2010s Song: Mona Lisa (Spider-Man: Across the Spider-Verse), Decade: 2010s Song: Telephone, Decade: 2010s Song: Someone You Loved, Decade: 2010s Song: Pjanoo - Radio Edit, Decade: 2010s Song: Tonight (I'm Fuckin' You), Decade: 2010s Song: Black Skinhead, Decade: 2010s Song: Butterfly, Decade: 2010s Song: Shelter, Decade: 2010s Song: G.U.Y., Decade: 2010s Song: Djadja, Decade: 2010s Song: Côte Ouest, Decade: 2010s Song: Don’t Call Me, Decade: 2010s Song: Hot N Cold, Decade: 2010s Song: Counting Stars, Decade: 2010s Song: Ghost Town, Decade: 2010s Song: Locked Away (feat. Adam Levine), Decade: 2010s Song: El Ratón y el Queso (feat. El Millonario, Vida Baja, Cachorro, Wichi & Big Man), Decade: 2010s Song: Stronger, Decade: 2010s Song: Remind Me to Forget, Decade: 2010s Song: Brighter Than The Sun, Decade: 2010s Song: La Quiero A Morir, Decade: 2010s Song: This Is What You Came For, Decade: 2010s Song: Quisiera Saber (with Natalia Lafourcade), Decade: 2010s Song: Belly Dancer, Decade: 2010s Song: Clarity, Decade: 2010s Song: PROVENZA, Decade: 2010s Song: bad guy, Decade: 2010s Song: Cake By The Ocean, Decade: 2010s Song: R U Mine?, Decade: 2010s Song: No One Dies From Love, Decade: 2010s Song: What You Done, Decade: 2010s Song: Deep Down Low, Decade: 2010s Song: Karma, Decade: 2010s Song: En cambio no, Decade: 2010s Song: This Love, Decade: 2010s Song: Hey, Soul Sister, Decade: 2010s Song: 24K Magic, Decade: 2010s Song: Intoxicated - Radio Edit, Decade: 2010s Song: Overdrive, Decade: 2010s Song: Shooting Stars, Decade: 2010s Song: I'm Still in Love with You (feat. Sasha), Decade: 2010s Song: Dark Horse, Decade: 2010s Song: Stolen Dance, Decade: 2010s Song: Rude Boy, Decade: 2010s Song: All The Stars (with SZA), Decade: 2010s Song: G.O.M.D, Decade: 2010s Song: Sollitaley Ava Kaadhala, Decade: 2010s Song: Just A Cloud Away, Decade: 2010s Song: À fleur de toi, Decade: 2010s Song: Le lac, Decade: 2010s Song: Best Song Ever, Decade: 2010s Song: Sunflower, Vol. 6, Decade: 2010s Song: idontwannabeyouanymore, Decade: 2010s Song: Work, Decade: 2010s Song: El Poeta, Decade: 2010s Song: Unforgettable, Decade: 2010s Song: Liability, Decade: 2010s Song: One - Radio Edit, Decade: 2010s Song: Get Low, Decade: 2010s Song: Black and Yellow, Decade: 2010s Song: Numb, Decade: 2010s Song: Club Can't Handle Me (feat. David Guetta), Decade: 2010s Song: Love Songs - Bonus, Decade: 2010s Song: Tengo Tu Love, Decade: 2010s Song: Te Felicito, Decade: 2010s Song: Pound The Alarm, Decade: 2010s Song: Delirious, Decade: 2010s Song: Dancing With A Stranger (with Normani), Decade: 2010s Song: Best I Ever Had, Decade: 2010s Song: Without Me, Decade: 2010s Song: Runnin' (Lose It All), Decade: 2010s Song: Tonight Tonight, Decade: 2010s Song: Exchange, Decade: 2010s Song: Unstoppable, Decade: 2010s Song: Teach Me How to Dougie, Decade: 2010s Song: Poker Face, Decade: 2010s Song: Don't Cha, Decade: 2010s Song: Animal, Decade: 2010s Song: Praying, Decade: 2010s Song: Otro Trago, Decade: 2010s Song: Hey Mama (feat. Nicki Minaj, Bebe Rexha & Afrojack), Decade: 2010s Song: Love You Like A Love Song, Decade: 2010s Song: Everytime We Touch, Decade: 2010s Song: Rolling in the Deep, Decade: 2010s Song: Tu Jaane Na (From \"Ajab Prem Ki Ghazab Kahani\"), Decade: 2010s Song: Oru Mezhuthiriyude, Decade: 2010s Song: Wrapped Up (feat. Travie McCoy), Decade: 2010s Song: Blurred Lines, Decade: 2010s Song: Atmosphere, Decade: 2010s Song: Under The Influence, Decade: 2010s Song: Stressed Out, Decade: 2010s Song: REMEDY, Decade: 2010s Song: Hot In It, Decade: 2010s Song: Re-arrange, Decade: 2010s Song: No Scrubs, Decade: 2010s Song: Loyal (feat. Lil Wayne & Tyga), Decade: 2010s Song: Pon de Replay, Decade: 2010s Song: Any Kind of Guy, Decade: 2010s Song: Piece Of Your Heart, Decade: 2010s Song: Belong to the City, Decade: 2010s Song: Theliveyil, Decade: 2010s Song: Lahu Munh Lag Gaya, Decade: 2010s Song: Just Give Me a Reason (feat. Nate Ruess), Decade: 2010s Song: I Cry, Decade: 2010s Song: Seven (feat. Latto) (Explicit Ver.), Decade: 2010s Song: The Monster, Decade: 2010s Song: Ta marinière, Decade: 2010s Song: Boy's a Liar, Decade: 2010s Song: Hosanna, Decade: 2010s Song: Take Me To Church, Decade: 2010s Song: Boo'd Up, Decade: 2010s Song: Airplanes, Pt. II (feat. Eminem & Hayley Williams of Paramore), Decade: 2010s Song: DJ Got Us Fallin' In Love, Decade: 2010s Song: My House, Decade: 2010s Song: Oh by God (From \"Ajab Prem Ki Ghazab Kahani\"), Decade: 2010s Song: Call Out My Name, Decade: 2010s Song: Yo no te pido la luna (Non voglio mica la luna), Decade: 2010s Song: Meet Me Halfway, Decade: 2010s Song: Natural, Decade: 2010s Song: Danza Kuduro, Decade: 2010s Song: Tusa, Decade: 2010s Song: Impossible, Decade: 2010s Song: Shut Up and Dance, Decade: 2010s Song: Firestone, Decade: 2010s Song: Way It Goes, Decade: 2010s Song: Without You, Decade: 2010s Song: My Type, Decade: 2010s Song: Cold Water, Decade: 2010s Song: Forever, Decade: 2010s Song: Animals - Radio Edit, Decade: 2010s Song: Downtown, Decade: 2010s Song: Just Like Fire (From the Original Motion Picture \"Alice Through The Looking Glass\"), Decade: 2010s Song: Mizhiyil - From 'Mayaanadhi', Decade: 2010s Song: Hurts So Good, Decade: 2010s Song: Chemical, Decade: 2010s Song: Coming Home, Decade: 2010s Song: The Time (Dirty Bit), Decade: 2010s Song: Royals, Decade: 2010s Song: Indeciso, Decade: 2010s Song: ily (i love you baby) (feat. Emilee), Decade: 2010s Song: Teri Jhuki Nazar, Decade: 2010s Song: Footloose, Decade: 2010s Song: Move Your Body - Alan Walker Remix, Decade: 2010s Song: Pompeii, Decade: 2010s Song: Blank Space, Decade: 2010s Song: Work from Home (feat. Ty Dolla $ign), Decade: 2010s Song: Sunroof, Decade: 2010s Song: Love The Way You Lie, Decade: 2010s Song: Inténtalo (feat. América Sierra & El Bebeto), Decade: 2010s Song: Miss You, Decade: 2010s Song: INDUSTRY BABY (feat. Jack Harlow), Decade: 2010s Song: Man Down, Decade: 2010s Song: Born This Way, Decade: 2010s Song: Perfect, Decade: 2010s Song: Leave Before You Love Me (with Jonas Brothers), Decade: 2010s Song: El Cielo, Decade: 2010s Song: Trumpets, Decade: 2010s Song: Could Have Been Me, Decade: 2010s Song: Aaj Kal Zindagi, Decade: 2010s Song: Maps, Decade: 2010s Song: Dua, Decade: 2010s Song: Piya Milenge, Decade: 2010s Song: Royals, Decade: 2010s Song: Quarter Past Midnight, Decade: 2010s Song: bury a friend, Decade: 2010s Song: King of Anything, Decade: 2010s Song: Bruxelles, Decade: 2010s Song: One Right Now (with The Weeknd), Decade: 2010s Song: Thrift Shop (feat. Wanz), Decade: 2010s Song: Eytho Mayam, Decade: 2010s Song: Party Rock Anthem, Decade: 2010s Song: Grenade, Decade: 2010s Song: Boombastic, Decade: 2010s Song: Me Enamoré de Ti, Decade: 2010s Song: Whenever, Wherever - Pepsi Super Bowl LIV Halftime Show Remix, Decade: 2010s Song: Shotgun, Decade: 2010s Song: Go Big Or Go Home, Decade: 2010s Song: Coco Chanel, Decade: 2010s Song: Hot N Cold, Decade: 2010s Song: Promiscuous, Decade: 2010s Song: Please Don't Go, Decade: 2010s Song: Greyhound, Decade: 2010s Song: Policeman, Decade: 2010s Song: Trophies, Decade: 2010s Song: Just Dance, Decade: 2010s Song: Say My Name, Decade: 2010s Song: Heartless, Decade: 2010s Song: I Kissed A Girl, Decade: 2010s Song: He Could Be the One, Decade: 2010s Song: Vaanganna Vanakkanganna, Decade: 2010s Song: Chocolat (feat. Awa Imani), Decade: 2010s Song: Que Mas Pues - Remix, Decade: 2010s Song: What Do I Know?, Decade: 2010s Song: Wrecking Ball, Decade: 2010s Song: Madhu Pole (From \"Dear Comrade\"), Decade: 2010s Song: Antha Naalil, Decade: 2010s Song: Party Rock Anthem, Decade: 2010s Song: Starships, Decade: 2010s Song: Million Voices - Radio Edit, Decade: 2010s Song: Love Galore (feat. Travis Scott), Decade: 2010s Song: Sorry Not Sorry, Decade: 2010s Song: Bye Bye Bye, Decade: 2010s Song: Super Bass, Decade: 2010s Song: Puedes Contar Conmigo, Decade: 2010s Song: Single Ladies (Put a Ring on It), Decade: 2010s Song: Dum Dee Dum, Decade: 2010s Song: No Idea, Decade: 2010s Song: Beautiful Girls, Decade: 2010s Song: Goodies (feat. Petey Pablo), Decade: 2010s Song: Titanium (feat. Sia), Decade: 2010s Song: Loco, Decade: 2010s Song: Beggin', Decade: 2010s Song: Let It Go, Decade: 2010s Song: Turning Tables, Decade: 2010s Song: Someone Like You, Decade: 2010s Song: Regalame Una Noche, Decade: 2010s Song: Gandi Baat, Decade: 2010s Song: Aethu Kari Raavilum, Decade: 2010s Song: Have A Good Summer (Without Me), Decade: 2010s Song: Hold Me Down, Decade: 2010s Song: Et alors !, Decade: 2010s Song: Counting Stars, Decade: 2010s Song: Cake By The Ocean, Decade: 2010s Song: Same Old Love, Decade: 2010s Song: As It Was, Decade: 2010s Song: Dernière danse, Decade: 2010s Song: Blanco y Negro, Decade: 2010s Song: Porkkalam - Tamil Rap, Decade: 2010s Song: Love Tonight (David Guetta Remix Edit), Decade: 2010s Song: Let It Go - From \"Frozen\"/Soundtrack Version, Decade: 2010s Song: BedRock, Decade: 2010s Song: El Aguante, Decade: 2010s Song: Japanese Denim, Decade: 2010s Song: Chikni Chameli, Decade: 2010s Song: Yes Indeed, Decade: 2010s Song: Castle on the Hill, Decade: 2010s Song: Crash 2.0, Decade: 2010s Song: Unholy (feat. Kim Petras), Decade: 2010s Song: Te Amo, Decade: 2010s Song: Stolen Dance, Decade: 2010s Song: Love On The Brain, Decade: 2010s Song: My Chick Bad, Decade: 2010s Song: SexyBack (feat. Timbaland), Decade: 2010s Song: Slippery (feat. Gucci Mane), Decade: 2010s Song: Dia de Enero, Decade: 2010s Song: Deja Que Te Bese, Decade: 2010s Song: Lloro Por Ti - Remix, Decade: 2010s Song: Lips Are Movin, Decade: 2010s Song: The Show Goes On, Decade: 2010s Song: thank u, next, Decade: 2010s Song: Thaane Pookum, Decade: 2010s Song: Bodak Yellow, Decade: 2010s Song: Viva La Vida, Decade: 2010s Song: Can't Hold Us (feat. Ray Dalton), Decade: 2010s Song: Iktara, Decade: 2010s Song: Mi 45, Decade: 2010s Song: Look Back at It, Decade: 2010s Song: Te Vi, Decade: 2010s Song: Rock That Body, Decade: 2010s Song: Nee Paartha Vizhigal - The Touch of Love, Decade: 2010s Song: The Lazy Song, Decade: 2010s Song: When I Grow Up, Decade: 2010s Song: Out Of Love, Decade: 2010s Song: Haven't Met You Yet, Decade: 2010s Song: Over, Decade: 2010s Song: Save The World, Decade: 2010s Song: Puthumazhayai Shreya Ghoshal, Decade: 2010s Song: Never Forget You, Decade: 2010s Song: Dusk Till Dawn (feat. Sia) - Radio Edit, Decade: 2010s Song: Rush, Decade: 2010s Song: Ayo, Decade: 2010s Song: A Mí, Decade: 2010s Song: Forget You, Decade: 2010s Song: Kannethaa Dooram, Decade: 2010s Song: Livin' la Vida Loca, Decade: 2010s Song: Bam Bam (feat. Ed Sheeran), Decade: 2010s Song: En Idhayam, Decade: 2010s Song: Unconditionally, Decade: 2010s Song: Hey Brother, Decade: 2010s Song: Leave a Light On, Decade: 2010s Song: Replay, Decade: 2010s Song: XO Tour Llif3, Decade: 2010s Song: Closer, Decade: 2010s Song: Mi Gente, Decade: 2010s Song: Someone Like You, Decade: 2010s Song: Les planètes, Decade: 2010s Song: 4EVA (feat. Pharrell Williams), Decade: 2010s Song: Car's Outside, Decade: 2010s Song: La Vuelta Al Mundo, Decade: 2010s Song: Save The World, Decade: 2010s Song: Pon Thaarame, Decade: 2010s Song: Planez, Decade: 2010s Song: Die A Happy Man, Decade: 2010s Song: Disco Inferno, Decade: 2010s Song: Gives You Hell, Decade: 2010s Song: Move Along, Decade: 2010s Song: Power (feat. Stormzy), Decade: 2010s Song: Good Girls Go Bad (feat. Leighton Meester), Decade: 2010s Song: Set Fire to the Rain, Decade: 2010s Song: Hotty Naughty, Decade: 2010s Song: Bad Habits, Decade: 2010s Song: Drop It Like It's Hot, Decade: 2010s Song: Spectrum, Decade: 2010s Song: All Time Low, Decade: 2010s Song: Impossible, Decade: 2010s Song: Work from Home (feat. Ty Dolla $ign), Decade: 2010s Song: Summer Girl - Bonus Track, Decade: 2010s Song: Make It Right (feat. Lauv), Decade: 2010s Song: Ugly Heart, Decade: 2010s Song: Scary Monsters and Nice Sprites, Decade: 2010s Song: Otra vez (feat. J Balvin), Decade: 2010s Song: Blinding Lights, Decade: 2010s Song: Boneless, Decade: 2010s Song: Walks Like Rihanna, Decade: 2010s Song: Believer, Decade: 2010s Song: Set Fire to the Rain, Decade: 2010s Song: It Was A Good Day, Decade: 2010s Song: Moves Like Jagger - Studio Recording From \"The Voice\" Performance, Decade: 2010s Song: Over, Decade: 2010s Song: There's Nothing Holdin' Me Back, Decade: 2010s Song: Traicionera, Decade: 2010s Song: blessing me (with Pa Salieu & Skillibeng), Decade: 2010s Song: Celos, Decade: 2010s Song: Entra en Mi Vida, Decade: 2010s Song: Stay The Night - Featuring Hayley Williams Of Paramore, Decade: 2010s Song: ZEZE (feat. Travis Scott & Offset), Decade: 2010s Song: Scared to Be Lonely, Decade: 2010s Song: Unna Kolla Poren, Decade: 2010s Song: Breaking Me, Decade: 2010s Song: Like a Tattoo, Decade: 2010s Song: Certain Things (feat. Chasing Grace) - sped up, Decade: 2010s Song: Moves Like Jagger, Decade: 2010s Song: Suerte (Whenever, Wherever), Decade: 2010s Song: Ishqyaun Dhishyaun, Decade: 2010s Song: I Wanna Fuck You, Decade: 2010s Song: Rasiya, Decade: 2010s Song: Volar Volar, Decade: 2010s Song: The Less I Know The Better, Decade: 2010s Song: Why We Thugs, Decade: 2010s Song: Levels - Radio Edit, Decade: 2010s Song: Rise Up - Radio Edit, Decade: 2010s Song: BUTTERFLY EFFECT, Decade: 2010s Song: IFHY (feat. Pharrell), Decade: 2010s Song: Rock Bottom, Decade: 2010s Song: La Negra Tiene Tumbao, Decade: 2010s Song: I Go Dancing (feat. Ella Henderson), Decade: 2010s Song: Wake Up Sid!, Decade: 2010s Song: All Summer Long, Decade: 2010s Song: TRUSTFALL, Decade: 2010s Song: We No Speak Americano (Edit), Decade: 2010s Song: Loveeeeeee Song, Decade: 2010s Song: Chill Bill (feat. J. Davi$ & Spooks), Decade: 2010s Song: Ocean, Decade: 2010s Song: Get Low, Decade: 2010s Song: Good Feeling, Decade: 2010s Song: One More Night, Decade: 2010s Song: Animal, Decade: 2010s Song: Sativa, Decade: 2010s Song: John Redcorn, Decade: 2010s Song: Con el Coco Rapado, Decade: 2010s Song: Day 'N' Nite (nightmare), Decade: 2010s Song: Dusk Till Dawn (feat. Sia) - Radio Edit, Decade: 2010s Song: 20 Something, Decade: 2010s Song: Mounam Chorum Neram, Decade: 2010s Song: All My Friends (feat. Tinashe & Chance the Rapper), Decade: 2010s Song: SUBEME LA RADIO, Decade: 2010s Song: Lights - Single Version, Decade: 2010s Song: Kill Em With Kindness, Decade: 2010s Song: On Fire, Decade: 2010s Song: A Different Way (with Lauv), Decade: 2010s Song: My Head Is A Jungle - Radio Edit, Decade: 2010s Song: Not Over You, Decade: 2010s Song: All I Want, Decade: 2010s Song: Stay (feat. Maty Noyes), Decade: 2010s Song: Backstabber, Decade: 2010s Song: Aa Re Pritam Pyaare, Decade: 2010s Song: Concrete Angel - Radio Edit, Decade: 2010s Song: Ahora Dice, Decade: 2010s Song: Minunundae Mullapolae, Decade: 2010s Song: Mi Gente (feat. Beyoncé), Decade: 2010s Song: Voodoo Song - Radio Edit, Decade: 2010s Song: Hear Me Now, Decade: 2010s Song: Where Have You Been, Decade: 2010s Song: Forever And Always, Decade: 2010s Song: Rie y Llora, Decade: 2010s Song: Waves - Robin Schulz Radio Edit, Decade: 2010s Song: The Worst, Decade: 2010s Song: Dhimu Dhimu, Decade: 2010s Song: The Flood, Decade: 2010s Song: Could've Been (feat. Bryson Tiller), Decade: 2010s Song: The Ketchup Song (Aserejé) - Spanglish Version, Decade: 2010s Song: Umbrella, Decade: 2010s Song: Volverte A Ver, Decade: 2010s Song: Darte un Beso, Decade: 2010s Song: Otha Sollaala, Decade: 2010s Song: Talk (feat. Disclosure), Decade: 2010s Song: Spin Bout U, Decade: 2010s Song: Window Shopper, Decade: 2010s Song: Dreamers [Music from the FIFA World Cup Qatar 2022 Official Soundtrack], Decade: 2010s Song: Limón y Sal, Decade: 2010s Song: Pashyathi Dishi, Decade: 2010s Song: Talking to the Moon, Decade: 2010s Song: Perilla Raajyathe, Decade: 2010s Song: Nightmare, Decade: 2010s Song: All I Ask, Decade: 2010s Song: Bangarang (feat. Sirah), Decade: 2010s Song: Rude, Decade: 2010s Song: No Hands (feat. Roscoe Dash & Wale), Decade: 2010s Song: Lolly, Decade: 2010s Song: Gimme More, Decade: 2010s Song: 3, Decade: 2010s Song: Still Sleepless, Decade: 2010s Song: No Limit, Decade: 2010s Song: In My Feelings, Decade: 2010s Song: All Night, Decade: 2010s Song: Dámaso, Decade: 2010s Song: Taste (feat. Offset), Decade: 2010s Song: Moving Along, Decade: 2010s Song: Different Colors, Decade: 2010s Song: More Than Friends - Radio Edit, Decade: 2010s Song: En feu, Decade: 2010s Song: C U Girl, Decade: 2010s Song: She Doesn't Mind, Decade: 2010s Song: Domino, Decade: 2010s Song: Price Tag, Decade: 2010s Song: Hey Baby (Drop It to the Floor) (feat. T-Pain), Decade: 2010s Song: Tell Me You Love Me, Decade: 2010s Song: Wanna Be Startin' Somethin', Decade: 2010s Song: Everybody Loves Somebody, Decade: 2010s Song: SABOR FRESA, Decade: 2010s Song: The Morning - Original, Decade: 2010s Song: Lethargy, Decade: 2010s Song: Pour It Up, Decade: 2010s Song: Girlfriend, Decade: 2010s Song: Aa Bhi Ja Sanam, Decade: 2010s Song: Toxic, Decade: 2010s Song: Perfect, Decade: 2010s Song: Mine - POP Mix, Decade: 2010s Song: Super Freaky Girl, Decade: 2010s Song: Manassil - Duet Version, Decade: 2010s Song: La Diabla, Decade: 2010s Song: History, Decade: 2010s Song: Virus (How About Now) - Radio Edit, Decade: 2010s Song: Piece by Piece - Idol Version, Decade: 2010s Song: Whistle, Decade: 2010s Song: Live Your Life, Decade: 2010s Song: Minni Minni - From \"June\", Decade: 2010s Song: STAY (with Justin Bieber), Decade: 2010s Song: Cherupunjiri, Decade: 2010s Song: Sure Thing - Sped Up, Decade: 2010s Song: Whatcha Say, Decade: 2010s Song: Yeah 3x, Decade: 2010s Song: I Like To Move It, Decade: 2010s Song: Y Tú Te Vas, Decade: 2010s Song: Mesmerize, Decade: 2010s Song: Shotgun, Decade: 2010s Song: As It Was, Decade: 2010s Song: NO, Decade: 2010s Song: On écrit sur les murs, Decade: 2010s Song: Somebody Else, Decade: 2010s Song: Rocketeer, Decade: 2010s Song: Shikdum (From \"Dhoom\"), Decade: 2010s Song: Party Up, Decade: 2010s Song: Wild Things, Decade: 2010s Song: Ambitionz Az A Ridah, Decade: 2010s Song: Just You and I, Decade: 2010s Song: Baianá, Decade: 2010s Song: Swimming Pools (Drank) - Extended Version, Decade: 2010s Song: Ram Chahe Leela, Decade: 2010s Song: Ugly Heart, Decade: 2010s Song: Pompeii, Decade: 2010s Song: Who Do You Love, Decade: 2010s Song: Neduvaali, Decade: 2010s Song: Kalasala Kalasala, Decade: 2010s Song: Rathathin Rathamay, Decade: 2010s Song: This Is What It Feels Like, Decade: 2010s Song: Safe And Sound, Decade: 2010s Song: I Took A Pill In Ibiza - Seeb Remix, Decade: 2010s Song: Hide & Seek, Decade: 2010s Song: Pon de Replay, Decade: 2010s Song: Feel No Ways, Decade: 2010s Song: Me & U, Decade: 2010s Song: Money Run Low, Decade: 2010s Song: Bird Set Free, Decade: 2010s Song: Make Me (Cry), Decade: 2010s Song: Lead the way, Decade: 2010s Song: My Life Would Suck Without You, Decade: 2010s Song: Soy Yo, Decade: 2010s Song: Ave María, Decade: 2010s Song: rockstar, Decade: 2010s Song: I'm the One (feat. Justin Bieber, Quavo, Chance the Rapper & Lil Wayne), Decade: 2010s Song: Adorn, Decade: 2010s Song: Passionfruit, Decade: 2010s Song: Gasolina, Decade: 2010s Song: changes, Decade: 2010s Song: Me Porto Bonito, Decade: 2010s Song: Tout oublier, Decade: 2010s Song: Kizhakkupookkum, Decade: 2010s Song: Bang Bang, Decade: 2010s Song: Nonsense, Decade: 2010s Song: Mercy, Decade: 2010s Song: Pondatti, Decade: 2010s Song: You & Me - Flume Remix, Decade: 2010s Song: Calm Down (with Selena Gomez), Decade: 2010s Song: Superstar, Decade: 2010s Song: Aléjate de Mí, Decade: 2010s Song: Easy Love, Decade: 2010s Song: Jealous, Decade: 2010s Song: Calling All My Lovelies, Decade: 2010s Song: You Say, Decade: 2010s Song: Cheerleader - Felix Jaehn Remix Radio Edit, Decade: 2010s Song: Toxic, Decade: 2010s Song: Praise The Lord (Da Shine) (feat. Skepta), Decade: 2010s Song: Get Busy, Decade: 2010s Song: Imma Be, Decade: 2010s Song: Babli Badmaash, Decade: 2010s Song: What's My Name?, Decade: 2010s Song: Jaded, Decade: 2010s Song: Alone, Decade: 2010s Song: On Top Of The World, Decade: 2010s Song: Don't Wanna Know, Decade: 2010s Song: For My Hand (feat. Ed Sheeran), Decade: 2010s Song: Blurred Lines, Decade: 2010s Song: Let Me Down Slowly, Decade: 2010s Song: Without You (feat. Sandro Cavazza), Decade: 2010s Song: Lady - Hear Me Tonight, Decade: 2010s Song: DJ Got Us Fallin' In Love (feat. Pitbull), Decade: 2010s Song: Just the Way You Are, Decade: 2010s Song: Bromance - Avicii's Radio Edit, Decade: 2010s Song: Fragments of Time (feat. Todd Edwards), Decade: 2010s Song: Narcos, Decade: 2010s Song: Wake Me Up - Radio Edit, Decade: 2010s Song: I Need A Doctor, Decade: 2010s Song: Latch - Acoustic, Decade: 2010s Song: Train Wreck, Decade: 2010s Song: Hooka, Decade: 2010s Song: How Low, Decade: 2010s Song: My Way, Decade: 2010s Song: Hey, Soul Sister, Decade: 2010s Song: Thee Illai, Decade: 2010s Song: Eenie Meenie, Decade: 2010s Song: Estoy Aquí, Decade: 2010s Song: Stronger (What Doesn't Kill You), Decade: 2010s Song: Mistletoe, Decade: 2010s Song: All About That Bass, Decade: 2010s Song: Only Girl (In The World), Decade: 2010s Song: BESO, Decade: 2010s Song: Ang Laga De, Decade: 2010s Song: Work Bitch, Decade: 2010s Song: OMG (feat. will.i.am), Decade: 2010s Song: The Man, Decade: 2010s Song: Kilómetros, Decade: 2010s Song: pushin P (feat. Young Thug), Decade: 2010s Song: She Had Me At Heads Carolina, Decade: 2010s Song: I'm Born To Run, Decade: 2010s Song: Last Night, Decade: 2010s Song: Pocketful of Sunshine, Decade: 2010s Song: Stereo Hearts (feat. Adam Levine), Decade: 2010s Song: Olha A Explosão, Decade: 2010s Song: Maria Maria (feat. The Product G&B) - sped up, Decade: 2010s Song: Wild - UK Version, Decade: 2010s Song: Si la Ves (feat. Sin Bandera), Decade: 2010s Song: 03' Bonnie & Clyde, Decade: 2010s Song: Hate Bein' Sober, Decade: 2010s Song: That's My Girl, Decade: 2010s Song: Rumour Has It, Decade: 2010s Song: Too Good At Goodbyes, Decade: 2010s Song: Today Was A Fairytale, Decade: 2010s Song: Beautiful, Decade: 2010s Song: Just A Dream, Decade: 2010s Song: Dark Red, Decade: 2010s Song: Mudhal Murai, Decade: 2010s Song: What the Hell, Decade: 2010s Song: Stay, Decade: 2010s Song: Getaway Car, Decade: 2010s Song: Need You Now, Decade: 2010s Song: Tú No Eres Para Mi, Decade: 2010s Song: Speechless, Decade: 2010s Song: Lost, Decade: 2010s Song: Hollaback Girl, Decade: 2010s Song: La Mejor Versión de Mi - Remix, Decade: 2010s Song: Gold Digger, Decade: 2010s Song: Mayor Que Yo 3, Decade: 2010s Song: Clocks, Decade: 2010s Song: Battleships, Decade: 2010s Song: Dive, Decade: 2010s Song: Idilio, Decade: 2010s Song: HOLD ME TIGHT OR DON’T, Decade: 2010s Song: Put A Little Love On Me, Decade: 2010s Song: Us, Decade: 2010s Song: Shut Up And Drive, Decade: 2010s Song: My Songs Know What You Did In The Dark (Light Em Up), Decade: 2010s Song: Where The Hood At, Decade: 2010s Song: Color Esperanza, Decade: 2010s Song: Sandstorm, Decade: 2010s Song: Astronomia, Decade: 2010s Song: #SELFIE, Decade: 2010s Song: BOP, Decade: 2010s Song: Main Tera Dhadkan Teri (From \"Ajab Prem Ki Ghazab Kahani\"), Decade: 2010s Song: Down, Decade: 2010s Song: Love The Way You Lie (feat. Rihanna), Decade: 2010s Song: (It Goes Like) Nanana - Edit, Decade: 2010s Song: Waves - Robin Schulz Radio Edit, Decade: 2010s Song: A Thousand Years, Decade: 2010s Song: Ghost of You, Decade: 2010s Song: Animals, Decade: 2010s Song: Bam Bam (feat. Ed Sheeran), Decade: 2010s Song: Me Too, Decade: 2010s Song: Gangnam Style (강남스타일), Decade: 2010s Song: Freaky Deaky, Decade: 2010s Song: In Da Club, Decade: 2010s Song: I Follow Rivers - The Magician Remix, Decade: 2010s Song: Shout Out to My Ex, Decade: 2010s Song: Cupid - Twin Ver., Decade: 2010s Song: Buzzin, Decade: 2010s Song: I'm Yours, Decade: 2010s Song: Sexy Bitch (feat. Akon), Decade: 2010s Song: Adiós Amor, Decade: 2010s Song: All About That Bass, Decade: 2010s Song: Last Hurrah, Decade: 2010s Song: Le chant des sirènes, Decade: 2010s Song: Jacaré, Decade: 2010s Song: Y Cómo Es El, Decade: 2010s Song: Giant (with Rag'n'Bone Man), Decade: 2010s Song: Poetic Justice, Decade: 2010s Song: Sigo aquí (Treasure Planet) (Tema principal de la B.S.O. El planeta del tesoro), Decade: 2010s Song: Like I'm Gonna Lose You (feat. John Legend), Decade: 2010s Song: Human (Rag'N'Bone Man) - sped up, Decade: 2010s Song: Photograph, Decade: 2010s Song: Heaven Takes You Home (feat. Connie Constance), Decade: 2010s Song: Aunque no te pueda ver, Decade: 2010s Song: Glad You Came, Decade: 2010s Song: Womanizer, Decade: 2010s Song: Muerte En Hawaii, Decade: 2010s Song: I Gotta Feeling, Decade: 2010s Song: Title, Decade: 2010s Song: Dance The Night (From Barbie The Album), Decade: 2010s Song: Wepa, Decade: 2010s Song: Burnin' Up, Decade: 2010s Song: Only Love Can Hurt Like This, Decade: 2010s Song: Raavu Mayave, Decade: 2010s Song: La Playa, Decade: 2010s Song: Te Lloré Un Río, Decade: 2010s Song: Don't Start Now, Decade: 2010s Song: My Love (feat. T.I.), Decade: 2010s Song: Hotel Room Service, Decade: 2010s Song: Subhanalla, Decade: 2010s Song: Money In The Grave (Drake ft. Rick Ross), Decade: 2010s Song: Sin miedo a nada, Decade: 2010s Song: God's Plan, Decade: 2010s Song: Entre tú y mil mares, Decade: 2010s Song: Poison, Decade: 2010s Song: UNHEALTHY (feat. Shania Twain), Decade: 2010s Song: More - RedOne Jimmy Joker Remix, Decade: 2010s Song: Bezubaan, Decade: 2010s Song: It Won't Stop (feat. Chris Brown) - EP Version, Decade: 2010s Song: Coming Home, Decade: 2010s Song: Not Afraid, Decade: 2010s Song: The Wire, Decade: 2010s Song: Since U Been Gone, Decade: 2010s Song: Idukki, Decade: 2010s Song: Sexy And I Know It, Decade: 2010s Song: Hold On, Decade: 2010s Song: Nanbane, Decade: 2010s Song: Se Preparó, Decade: 2010s Song: Nazar Laaye - Reprise, Decade: 2010s Song: Eastside (with Halsey & Khalid), Decade: 2010s Song: Right Above It, Decade: 2010s Song: I Need A Dollar, Decade: 2010s Song: How To Love, Decade: 2010s Song: Dance Monkey, Decade: 2010s Song: Cheap Thrills (feat. Sean Paul), Decade: 2010s Song: Thunder, Decade: 2010s Song: Vaathil Melle, Decade: 2010s Song: Breathless, Decade: 2010s Song: Je m'en fous, Decade: 2010s Song: It Wasn't Me, Decade: 2010s Song: Dilemma, Decade: 2010s Song: A Dios Le Pido, Decade: 2010s Song: Mientes, Decade: 2010s Song: Bulletproof, Decade: 2010s Song: Starry Eyed, Decade: 2010s Song: Here We Go Again, Decade: 2010s Song: Don't Wanna Go Home, Decade: 2010s Song: Born This Way, Decade: 2010s Song: Atlantis, Decade: 2010s Song: We Are Young (feat. Janelle Monáe), Decade: 2010s Song: Dhokha Dhadi, Decade: 2010s Song: Ay Mi Dios, Decade: 2010s Song: Boom Clap, Decade: 2010s Song: Starships, Decade: 2010s Song: Oru Kari Mukilinu, Decade: 2010s Song: Pure Cocaine, Decade: 2010s Song: Here, Decade: 2010s Song: Mel Mel, Decade: 2010s Song: Latinoamérica (feat. Totó la Momposina, Susana Baca & Maria Rita), Decade: 2010s Song: messy in heaven, Decade: 2010s Song: Gordita (feat. Residente Calle 13), Decade: 2010s Song: You Don't Know Me (feat. RAYE), Decade: 2010s Song: Baby (Lil Baby feat. DaBaby), Decade: 2010s Song: Hard, Decade: 2010s Song: Wild Thoughts (feat. Rihanna & Bryson Tiller), Decade: 2010s Song: Send My Love (To Your New Lover), Decade: 2010s Song: Sucker, Decade: 2010s Song: On The Floor - Radio Edit, Decade: 2010s Song: Nights Like This (feat. Ty Dolla $ign), Decade: 2010s Song: Miss You, Decade: 2010s Song: Infinity Repeating (2013 Demo) [feat. Julian Casablancas+The Voidz], Decade: 2010s Song: Memories, Decade: 2010s Song: Tooh, Decade: 2010s Song: Mala Fama, Decade: 2010s Song: Fire Escape, Decade: 2010s Song: You're Beautiful, Decade: 2010s Song: Take Me to Church, Decade: 2010s Song: Spectrum (Say My Name) - Calvin Harris Remix, Decade: 2010s Song: Bella, Decade: 2010s Song: Chillax (feat. Ky-Mani Marley), Decade: 2010s Song: The Greatest (feat. Kendrick Lamar), Decade: 2010s Song: Dame tu aire, Decade: 2010s Song: El Murguero, Decade: 2010s Song: Amor del Bueno, Decade: 2010s Song: The Way You Move (feat. Sleepy Brown), Decade: 2010s Song: Wherever I Go, Decade: 2010s Song: Silence, Decade: 2010s Song: God's Plan, Decade: 2010s Song: Nilamanaltharikalil, Decade: 2010s Song: Blah Blah Blah (feat. 3OH!3), Decade: 2010s Song: No Me Conoce - Remix, Decade: 2010s"
     ]
    },
    {
     "name": "stdout",
     "output_type": "stream",
     "text": [
      " Song: Sugar, Decade: 2010s Song: Lord Pretty Flacko Jodye 2 (LPFJ2), Decade: 2010s Song: La Mordidita (feat. Yotuel), Decade: 2010s Song: Wine Pon You (feat. Konshens), Decade: 2010s Song: I Don't Care (with Justin Bieber), Decade: 2010s Song: Veera, Decade: 2010s Song: Who Told You (feat. Drake), Decade: 2010s Song: One More Time, Decade: 2010s Song: Thumbi Penne, Decade: 2010s Song: She Don't (feat. Ty Dolla $Ign), Decade: 2010s Song: Pierre, Decade: 2010s Song: Get up - French Edit, Decade: 2010s Song: Am I Wrong, Decade: 2010s Song: We R Who We R, Decade: 2010s Song: The Spectre, Decade: 2010s Song: Idhazhin Oram - The Innocence of Love, Decade: 2010s Song: Teenage Dirtbag, Decade: 2010s Song: Hotel Room Service, Decade: 2010s Song: Amante Bandido, Decade: 2010s Song: Bitch Better Have My Money, Decade: 2010s Song: Start A Riot, Decade: 2010s Song: Tanto la Queria, Decade: 2010s Song: Soulman - New English Version, Decade: 2010s Song: All I Do Is Win (feat. T-Pain, Ludacris, Snoop Dogg & Rick Ross), Decade: 2010s Song: American Teen, Decade: 2010s Song: Bheegi Yaadein, Decade: 2010s Song: Mariposa Traicionera, Decade: 2010s Song: Feels (feat. Pharrell Williams, Katy Perry & Big Sean), Decade: 2010s Song: The Fighter (feat. Ryan Tedder), Decade: 2010s Song: Still Into You, Decade: 2010s Song: Eres Tú, Decade: 2010s Song: I Could Use a Love Song, Decade: 2010s Song: Bad Romance, Decade: 2010s Song: Rosas, Decade: 2010s Song: I Gotta Feeling, Decade: 2010s Song: Say Something - Zac Samuel Remix, Decade: 2010s Song: Teenage Dream, Decade: 2010s Song: Hola - Remix, Decade: 2010s Song: Jar of Hearts, Decade: 2010s Song: Shape of You, Decade: 2010s Song: Akila Akila, Decade: 2010s Song: Beauty And A Beat, Decade: 2010s Song: Kickstarts, Decade: 2010s Song: All My Life (feat. J. Cole), Decade: 2010s Song: Dhunki (From \"Mere Brother Ki Dulhan\"), Decade: 2010s Song: Vizhigalile, Decade: 2010s Song: Fashion Killa, Decade: 2010s Song: La vie est belle, Decade: 2010s Song: Vaaniluyare, Decade: 2010s Song: Secrets, Decade: 2010s Song: Big Energy, Decade: 2010s Song: Jealous, Decade: 2010s Song: The Box, Decade: 2010s Song: Rather Be (feat. Jess Glynne), Decade: 2010s Song: Il nous faut, Decade: 2010s Song: Ni Una Sola Palabra, Decade: 2010s Song: Who Do You Love?, Decade: 2010s Song: Hey Ya!, Decade: 2010s Song: IFTK, Decade: 2010s Song: Silenced By The Night, Decade: 2010s Song: Fotografía, Decade: 2010s Song: In Da Club, Decade: 2010s Song: Lady Marmalade - From \"Moulin Rouge\" Soundtrack, Decade: 2010s Song: Pularoli, Decade: 2010s Song: Show Me (feat. Chris Brown), Decade: 2010s Song: Pepas, Decade: 2010s Song: Don't Be so Hard on Yourself, Decade: 2010s Song: Nakula, Decade: 2010s Song: Can't Hold Us (feat. Ray Dalton), Decade: 2010s Song: La Tortura (feat. Alejandro Sanz), Decade: 2010s Song: Con Calma, Decade: 2010s Song: Never Be the Same, Decade: 2010s Song: Sweater Weather, Decade: 2010s Song: Young And Beautiful, Decade: 2010s Song: Mozhikalum - Duet Version, Decade: 2010s Song: Need U (100%) (feat. A*M*E), Decade: 2010s Song: Hall of Fame (feat. will.i.am), Decade: 2010s Song: Heart Attack, Decade: 2010s Song: What's My Name?, Decade: 2010s Song: Hold My Girl, Decade: 2010s Song: Kuch Kam, Decade: 2010s Song: Kadhal Vandhale, Decade: 2010s Song: Classic, Decade: 2010s Song: 10,000 Hours (with Justin Bieber), Decade: 2010s Song: ...Baby One More Time, Decade: 2010s Song: I Wanna Know (feat. Bea Miller), Decade: 2010s Song: Whataya Want from Me, Decade: 2010s Song: Speeding Cars, Decade: 2010s Song: Kya Karoon?, Decade: 2010s Song: Love Is Bigger Than Anything In Its Way, Decade: 2010s Song: Castles, Decade: 2010s Song: You're Somebody Else, Decade: 2010s Song: Take Me Out, Decade: 2010s Song: Temperature, Decade: 2010s Song: Work REMIX (feat. A$AP Rocky, French Montana, Trinidad James & ScHoolboy Q), Decade: 2010s Song: Blue Lights, Decade: 2010s Song: Abhi Mujh Mein Kahin, Decade: 2010s Song: Cruise, Decade: 2010s Song: Son de Amores, Decade: 2010s Song: Humanos a Marte, Decade: 2010s Song: Kilikal Parannatho, Decade: 2010s Song: Promises (with Sam Smith), Decade: 2010s Song: GUY.exe, Decade: 2010s Song: Thumbs, Decade: 2010s Song: Fuiste Tú (feat. Gaby Moreno), Decade: 2010s Song: Open Arms (feat. Travis Scott), Decade: 2010s Song: In My Feelings, Decade: 2010s Song: Giving Me, Decade: 2010s Song: Survivor, Decade: 2010s Song: Low, Decade: 2010s Song: Infrunami, Decade: 2010s Song: Mammoth, Decade: 2010s Song: Hey Mama (feat. Nicki Minaj & Afrojack), Decade: 2010s Song: Kaddu Katega, Decade: 2010s Song: Power, Decade: 2010s Song: Ms. Jackson, Decade: 2010s Song: Follow Me (From \"Ajab Prem Ki Gazab Kahani\"), Decade: 2010s Song: Rx (Medicate), Decade: 2010s Song: Vaarthinkale, Decade: 2010s Song: Lush Life, Decade: 2010s Song: 2 On (feat. ScHoolboy Q), Decade: 2010s Song: Feet Don't Fail Me Now, Decade: 2010s Song: Roar, Decade: 2010s Song: Manoghatham Bhavaan, Decade: 2010s Song: Cola, Decade: 2010s Song: Que Lloro, Decade: 2010s Song: Too Close, Decade: 2010s Song: The Nights, Decade: 2010s Song: Cuando Me Enamoro, Decade: 2010s Song: Ay Haiti!, Decade: 2010s Song: Come With Me, Decade: 2010s Song: One More Night, Decade: 2010s Song: Just A Lil Bit, Decade: 2010s Song: Mambo No. 5 (a Little Bit of...), Decade: 2010s Song: Light The Sky - Music from the FIFA World Cup Qatar 2022 Official Soundtrack, Decade: 2010s Song: Shallow - Radio Edit, Decade: 2010s Song: Dhadhang Dhang, Decade: 2010s Song: Braveheart, Decade: 2010s Song: Beneath Your Beautiful (feat. Emeli Sandé), Decade: 2010s Song: Rooftop, Decade: 2010s Song: I Think I'm In Love, Decade: 2010s Song: Píntame, Decade: 2010s Song: Hung Up, Decade: 2010s Song: Echa Pa'lla (Manos Pa'rriba) (feat. Papayo), Decade: 2010s Song: EARFQUAKE, Decade: 2010s Song: HUMBLE., Decade: 2010s Song: I Like It, Decade: 2010s Song: The Way I Are, Decade: 2010s Song: Secrets, Decade: 2010s Song: Human, Decade: 2010s Song: Summertime Sadness (Lana Del Rey Vs. Cedric Gervais) - Cedric Gervais Remix, Decade: 2010s Song: Young, Wild & Free (feat. Bruno Mars), Decade: 2010s Song: Daarrrling (From \"7 Khoon Maaf\") - Remix by Abhijit Vaghani, Decade: 2010s Song: Classic, Decade: 2010s Song: Turn On The Lights again.. (feat. Future), Decade: 2010s Song: Best Day Of My Life, Decade: 2010s Song: Boomi Enna Suthudhe, Decade: 2010s Song: Break Your Heart, Decade: 2010s Song: Rolling in the Deep, Decade: 2010s Song: I Could Be The One (Avicii Vs. Nicky Romero) - Nicktim / Radio Edit, Decade: 2010s Song: Faded, Decade: 2010s Song: Bad Habit, Decade: 2010s Song: Heartbreak Warfare, Decade: 2010s Song: Est-ce que tu m'aimes ? - Pilule bleue, Decade: 2010s Song: Die For You - Remix, Decade: 2010s Song: Nasty Remix ft Saint Levant, Decade: 2010s Song: Do You Remember, Decade: 2010s Song: Dynamite, Decade: 2010s Song: Too Close, Decade: 2010s Song: Ignite, Decade: 2010s Song: Sticky, Decade: 2010s Song: The Cure, Decade: 2010s Song: Soap, Decade: 2010s Song: Can You Feel My Heart, Decade: 2010s Song: Vijanathayil, Decade: 2010s Song: Party In The U.S.A., Decade: 2010s Song: Makeba, Decade: 2010s Song: Pink + White, Decade: 2010s Song: Finesse, Decade: 2010s Song: Hymn for the Weekend, Decade: 2010s Song: Beautiful Liar, Decade: 2010s Song: Manickyachirakulla, Decade: 2010s Song: Freestyle, Decade: 2010s Song: Balle Lakka, Decade: 2010s Song: CAN'T STOP THE FEELING! (from DreamWorks Animation's \"TROLLS\"), Decade: 2010s Song: Trip, Decade: 2010s Song: Who Let The Dogs Out, Decade: 2010s Song: Encore un soir, Decade: 2010s Song: Crooked Smile (feat. TLC), Decade: 2010s Song: Time of Our Lives, Decade: 2010s Song: My First Kiss (feat. Ke$ha), Decade: 2010s Song: Bien o Mal, Decade: 2010s Song: We Are Never Ever Getting Back Together, Decade: 2010s Song: Vivir Mi Vida, Decade: 2010s Song: All I Have (feat. LL Cool J), Decade: 2010s Song: La Vida Es Un Carnaval, Decade: 2010s Song: Tera Hone Laga Hoon (From \"Ajab Prem Ki Ghazab Kahani\"), Decade: 2010s Song: Cleanin' Out My Closet, Decade: 2010s Song: Moves Like Jagger - Studio Recording From \"The Voice\" Performance, Decade: 2010s Song: When Can I See You Again? - From \"Wreck-It Ralph\"/Soundtrack Version, Decade: 2010s Song: A Sky Full of Stars - Hardwell Remix, Decade: 2010s Song: The Man Who Can't Be Moved, Decade: 2010s Song: Only Girl (In The World), Decade: 2010s Song: Allez reste (feat. Vianney), Decade: 2010s Song: Save Your Tears, Decade: 2010s Song: Counting Stars, Decade: 2010s Song: Human, Decade: 2010s Song: Livin' la Vida Loca - Spanish Version, Decade: 2010s Song: No Guidance (feat. Drake), Decade: 2010s Song: Young Girls, Decade: 2010s Song: Thrift Shop (feat. Wanz), Decade: 2010s Song: everything i wanted, Decade: 2010s Song: Just A Girl, Decade: 2010s Song: Happier, Decade: 2010s Song: How To Love, Decade: 2010s Song: Consideration, Decade: 2010s Song: Tras De Mí, Decade: 2010s Song: Heaven, Decade: 2010s Song: Cuaderno, Decade: 2010s Song: Drunk in Love (feat. Jay-Z), Decade: 2010s Song: Azul, Decade: 2010s Song: Lost, Decade: 2010s Song: Cooler Than Me, Decade: 2010s Song: Infeliz, Decade: 2010s Song: Naturally, Decade: 2010s Song: Paisaje, Decade: 2010s Song: Lights - Single Version, Decade: 2010s Song: golden hour, Decade: 2010s Song: (When You Gonna) Give It Up to Me (feat. Keyshia Cole) - Radio Version, Decade: 2010s Song: ¿Qué pides tú?, Decade: 2010s Song: Cry Me a River, Decade: 2010s Song: U Remind Me, Decade: 2010s Song: Perfect Places, Decade: 2010s Song: Bon Appétit, Decade: 2010s Song: One (Your Name) - Radio Edit, Decade: 2010s Song: On & On, Decade: 2010s Song: This Love, Decade: 2010s Song: Frente a frente (feat. Tulsa), Decade: 2010s Song: The Hills, Decade: 2010s Song: Cómo Te Atreves, Decade: 2010s Song: Hridayathin, Decade: 2010s Song: Veyil Chilla, Decade: 2010s Song: In The Bible (with Lil Durk & Giveon), Decade: 2010s Song: Man Down, Decade: 2010s Song: One Foot, Decade: 2010s Song: SICKO MODE, Decade: 2010s Song: La terre est ronde, Decade: 2010s Song: Aadat Se Majboor (From \"Ladies V/s Ricky Bahl\"), Decade: 2010s Song: Boy With Luv (feat. Halsey), Decade: 2010s Song: Black Beatles, Decade: 2010s Song: Harleys In Hawaii, Decade: 2010s Song: Budapest, Decade: 2010s Song: Sugar, Decade: 2010s Song: I Like It, Decade: 2010s Song: Sit Next to Me, Decade: 2010s Song: Mr. Saxobeat - Radio Edit, Decade: 2010s Song: You Belong With Me, Decade: 2010s Song: Akale - From \"9 (Nine) Malayalam\", Decade: 2010s Song: Adicto (with Anuel AA & Ozuna), Decade: 2010s Song: SOLO, Decade: 2010s Song: Rock Your Body, Decade: 2010s Song: Vennilave, Decade: 2010s Song: Ven Conmigo (Solamente Tú), Decade: 2010s Song: Laila, Decade: 2010s Song: Hot In Herre, Decade: 2010s Song: La grenade, Decade: 2010s Song: Trust, Decade: 2010s Song: Yeah! (feat. Lil Jon & Ludacris), Decade: 2010s Song: breathin, Decade: 2010s Song: Ore Nila Ore Veyil, Decade: 2010s Song: Be Mine, Decade: 2010s Song: La La Love, Decade: 2010s Song: Ayo Technology, Decade: 2010s Song: SOS (feat. Aloe Blacc), Decade: 2010s Song: New Rules, Decade: 2010s Song: Sin Pijama, Decade: 2010s Song: Sweat - Remix, Decade: 2010s Song: I Gotta Feeling, Decade: 2010s Song: Drip, Decade: 2010s Song: Look What You Made Me Do, Decade: 2010s Song: Kids, Decade: 2010s Song: Secrets, Decade: 2010s Song: Shut Down, Decade: 2010s Song: Haven't Met You Yet, Decade: 2010s Song: Cool Kids, Decade: 2010s Song: Paisa, Decade: 2010s Song: Caraluna, Decade: 2010s Song: Hey Ya!, Decade: 2010s Song: Calma - Remix, Decade: 2010s Song: Rimas Pa' Seducir, Decade: 2010s Song: Want You Back, Decade: 2010s Song: Neelakkannulla Maanea, Decade: 2010s Song: Memories, Decade: 2010s Song: CAN'T STOP THE FEELING! (from DreamWorks Animation's \"TROLLS\"), Decade: 2010s Song: Escapism., Decade: 2010s Song: OUT WEST (feat. Young Thug), Decade: 2010s Song: Look At Me Now (feat. Lil' Wayne & Busta Rhymes), Decade: 2010s Song: Nilapakshi Happy Version, Decade: 2010s Song: Lollipop, Decade: 2010s Song: Unstoppable, Decade: 2010s Song: Booyah, Decade: 2010s Song: Neelashalabame, Decade: 2010s Song: Teenage Dream, Decade: 2010s Song: Session 32, Decade: 2010s Song: Dommage, Decade: 2010s Song: Down On Me, Decade: 2010s Song: Don, Decade: 2010s Song: Shots, Decade: 2010s Song: Back To December, Decade: 2010s Song: Boondocks, Decade: 2010s Song: Language, Decade: 2010s Song: Eat Your Man (with Nelly Furtado), Decade: 2010s Song: Motivation, Decade: 2010s Song: Mazhaye Toomazhaye, Decade: 2010s Song: Tunnel Vision, Decade: 2010s Song: Rock Wit U (Awww Baby), Decade: 2010s Song: Kaatrai Konjam, Decade: 2010s Song: UN PESO, Decade: 2010s Song: She Doesn't Mind, Decade: 2010s Song: Often, Decade: 2010s Song: Girl on Fire, Decade: 2010s Song: Le portrait, Decade: 2010s Song: Personalmente, Decade: 2010s Song: Ni Tú Ni Nadie, Decade: 2010s Song: Pompeii, Decade: 2010s Song: Rock This Party - Everybody Dance Now, Decade: 2010s Song: Every Teardrop Is a Waterfall, Decade: 2010s Song: Talento De Televisión, Decade: 2010s Song: Work Out, Decade: 2010s Song: Khushamdeed, Decade: 2010s Song: Otro Trago - Remix, Decade: 2010s Song: Stuck Like Glue, Decade: 2010s Song: Rolling in the Deep, Decade: 2010s Song: Hideaway, Decade: 2010s Song: Renegades, Decade: 2010s Song: La Camisa Negra, Decade: 2010s Song: Missing You, Decade: 2010s Song: Algo Más, Decade: 2010s Song: When I Was Your Man, Decade: 2010s Song: DONTTRUSTME, Decade: 2010s Song: Beso, Decade: 2010s Song: ARE WE STILL FRIENDS?, Decade: 2010s Song: Satellite, Decade: 2010s Song: Until I Found You, Decade: 2010s Song: Lighters, Decade: 2010s Song: B.O.T.A. (Baddest Of Them All) - Edit, Decade: 2010s Song: El Efecto, Decade: 2010s Song: She Will Be Loved, Decade: 2010s Song: This Love, Decade: 2010s Song: Vaanam, Decade: 2010s Song: Christine, Decade: 2010s Song: Flashlight, Decade: 2010s Song: All of Me - Tiësto's Birthday Treatment Remix - Radio Edit, Decade: 2010s Song: Area Codes, Decade: 2010s Song: Arbol Sin Hojas, Decade: 2010s Song: Call on Me - Radio Mix, Decade: 2010s Song: Amor Prohibido, Decade: 2010s Song: KU LO SA - A COLORS SHOW, Decade: 2010s Song: no tears left to cry, Decade: 2010s Song: Sayyaave, Decade: 2010s Song: 1, 2, 3 (feat. Jason Derulo & De La Ghetto), Decade: 2010s Song: Labios Compartidos, Decade: 2010s Song: Se Acabo (feat. Method Man) - Remix, Decade: 2010s Song: Lover, Decade: 2010s Song: Lloviendo Estrellas, Decade: 2010s Song: Peso Pluma: Bzrp Music Sessions, Vol. 55, Decade: 2010s Song: Back To December, Decade: 2010s Song: Best I Ever Had, Decade: 2010s Song: Carmesí, Decade: 2010s Song: S91, Decade: 2010s Song: Wake Me Up - Radio Edit, Decade: 2010s Song: All The Stars (with SZA), Decade: 2010s Song: Thrift Shop (feat. Wanz), Decade: 2010s Song: Punchiri Thanjum, Decade: 2010s Song: Descontrol, Decade: 2010s Song: Elastic Heart, Decade: 2010s Song: Yellae Lama, Decade: 2010s Song: Antologia, Decade: 2010s Song: Love Runs Out, Decade: 2010s Song: Family Affair, Decade: 2010s Song: Red Lights, Decade: 2010s Song: Nee Himamazhayayi - From \"Edakkad Battalion 06\", Decade: 2010s Song: Always On Time, Decade: 2010s Song: Don't Go Yet, Decade: 2010s Song: Light It Up - Remix, Decade: 2010s Song: Crew (feat. Brent Faiyaz & Shy Glizzy), Decade: 2010s Song: everytime, Decade: 2010s Song: Stereo Hearts (feat. Adam Levine), Decade: 2010s Song: S.O.S., Decade: 2010s Song: Elle me dit, Decade: 2010s Song: See You Again (feat. Charlie Puth), Decade: 2010s Song: Need You Now, Decade: 2010s Song: Rain Over Me (feat. Marc Anthony), Decade: 2010s Song: According To You, Decade: 2010s Song: Yennodu Vaa Vaa, Decade: 2010s Song: Don’t Stop The Party, Decade: 2010s Song: Goteo, Decade: 2010s Song: Sweet but Psycho, Decade: 2010s Song: Diamonds, Decade: 2010s Song: Only Girl (In The World), Decade: 2010s Song: Mi Verdad (feat. Shakira), Decade: 2010s Song: Vermissen (feat. Henning May), Decade: 2010s Song: I'm an Albatraoz, Decade: 2010s Song: Tadow, Decade: 2010s Song: The Love Club, Decade: 2010s Song: About Damn Time, Decade: 2010s Song: Poison, Decade: 2010s Song: Crazy, Decade: 2010s Song: La Playa, Decade: 2010s Song: Run the World (Girls), Decade: 2010s Song: Sweet but Psycho, Decade: 2010s Song: Dark Horse, Decade: 2010s Song: Fantasias, Decade: 2010s Song: Lush Life, Decade: 2010s Song: Osthe Maamey, Decade: 2010s Song: good 4 u, Decade: 2010s Song: All Girls Are The Same, Decade: 2010s Song: Pra Sonhar, Decade: 2010s Song: Ente Mohangalellam - From \"Violin\", Decade: 2010s Song: Ranam - From \"Ranam\", Decade: 2010s Song: Bachata En Fukuoka, Decade: 2010s Song: Aún Hay Algo, Decade: 2010s Song: Something Just Like This, Decade: 2010s Song: BABY HELLO, Decade: 2010s Song: Loba, Decade: 2010s Song: Tuesday (feat. Danelle Sandoval), Decade: 2010s Song: Pehli Nazar Mein, Decade: 2010s Song: Shut Up And Drive, Decade: 2010s Song: GDFR (feat. Sage the Gemini & Lookas), Decade: 2010s Song: Mayam Seidhayo, Decade: 2010s Song: La La La (Brasil 2014) (feat. Carlinhos Brown), Decade: 2010s Song: When Love Takes Over (feat. Kelly Rowland), Decade: 2010s Song: Chinnamma Adi, Decade: 2010s Song: Eno Kangal, Decade: 2010s Song: Kiss You, Decade: 2010s Song: Confetti, Decade: 2010s Song: Rap God, Decade: 2010s Song: One Dance, Decade: 2010s Song: Bad Blood, Decade: 2010s Song: Shut Up and Dance, Decade: 2010s Song: Juicy, Decade: 2010s Song: Moonlight, Decade: 2010s Song: Billionaire (feat. Bruno Mars), Decade: 2010s Song: Ocean Drive, Decade: 2010s Song: ghostin, Decade: 2010s Song: Just Can’t Get Enough, Decade: 2010s Song: I Will Never Let You Down, Decade: 2010s Song: Home, Decade: 2010s Song: Where Are You Now, Decade: 2010s Song: Side To Side, Decade: 2010s Song: Pumped Up Kicks, Decade: 2010s Song: I Know You Want Me (Calle Ocho), Decade: 2010s Song: Mirrors, Decade: 2010s Song: You Da One, Decade: 2010s Song: Arikil, Decade: 2010s Song: Should I Stay or Should I Go - Remastered, Decade: 2010s Song: STARSTRUKK (feat. Katy Perry), Decade: 2010s Song: Love Me Again, Decade: 2010s Song: Not Afraid, Decade: 2010s Song: Suit & Tie (feat. Jay-Z), Decade: 2010s Song: Countdown, Decade: 2010s Song: LOVE. FEAT. ZACARI., Decade: 2010s Song: Reload - Radio Edit, Decade: 2010s Song: Lay Low, Decade: 2010s Song: Pump It, Decade: 2010s Song: Prem Ki Naiya (From \"Ajab Prem Ki Ghazab Kahani\"), Decade: 2010s Song: Kanninullil, Decade: 2010s Song: Focus, Decade: 2010s Song: Don't Call Me Up, Decade: 2010s Song: Lady Marmalade - Single Edit, Decade: 2010s Song: What You Need - Original, Decade: 2010s Song: Stereo Love - Original, Decade: 2010s Song: La Carretera, Decade: 2010s Song: Miracle, Decade: 2010s Song: Buy Dirt, Decade: 2010s Song: Self Care, Decade: 2010s Song: De Manier, Decade: 2010s Song: Wet Dreamz, Decade: 2010s Song: Sur ma route, Decade: 2010s Song: Lolita, Decade: 2010s Song: I'm Real (feat. Ja Rule) - Murder Remix, Decade: 2010s Song: Mi Gente, Decade: 2010s Song: Can't Tame Her, Decade: 2010s Song: Sálvame, Decade: 2010s Song: Kuru Kuru, Decade: 2010s Song: Hangover, Decade: 2010s Song: Another Love (Tom Odell) - slowed down, Decade: 2010s Song: Adorn, Decade: 2010s Song: Coming Home, Decade: 2010s Song: O Mere Khuda, Decade: 2010s Song: Oru Nokku, Decade: 2010s Song: Cry Baby, Decade: 2010s Song: Sky Walker (feat. Travis Scott), Decade: 2010s Song: Locos, Decade: 2010s Song: Side To Side, Decade: 2010s Song: Red Dot Music (feat. Action Bronson), Decade: 2010s Song: VAGABUNDO, Decade: 2010s Song: Pony, Decade: 2010s Song: Shine On, Decade: 2010s Song: Déjala Que Vuelva (feat. Manuel Turizo), Decade: 2010s Song: The City's Yours, Decade: 2010s Song: Boom Boom Pow, Decade: 2010s Song: Geronimo, Decade: 2010s Song: Heathens, Decade: 2010s Song: Pepas, Decade: 2010s Song: Vathilil, Decade: 2010s Song: Arrasando, Decade: 2010s Song: Noviembre Sin Ti, Decade: 2010s Song: Colgando en tus manos (con Marta Sánchez), Decade: 2010s Song: STAYING ALIVE (feat. Drake & Lil Baby), Decade: 2010s Song: Sorry, Decade: 2010s Song: Anuraghathin Velayil, Decade: 2010s Song: Boyfriend, Decade: 2010s Song: Treat People With Kindness, Decade: 2010s Song: Loco, Decade: 2010s Song: El Efecto - Remix, Decade: 2010s Song: Rich Flex, Decade: 2010s Song: Beautiful Liar, Decade: 2010s Song: Money Longer, Decade: 2010s Song: Crazy In Love (feat. Jay-Z), Decade: 2010s Song: Empire State of Mind (Part II) Broken Down, Decade: 2010s Song: Somebody To Love, Decade: 2010s Song: Part Of Me, Decade: 2010s Song: Better Now, Decade: 2010s Song: Big Girls Don't Cry (Personal), Decade: 2010s Song: Knock Knock, Decade: 2010s Song: Si Se Da - Remix, Decade: 2010s Song: Woman, Decade: 2010s Song: Señorita, Decade: 2010s Song: Escape (feat. Hayla), Decade: 2010s Song: FRIENDS, Decade: 2010s Song: Lay Me Down, Decade: 2010s Song: Sale el Sol, Decade: 2010s Song: Mi Tierra, Decade: 2010s Song: Doin' Time, Decade: 2010s Song: LoveGame, Decade: 2010s Song: Come & Get It, Decade: 2010s Song: Pound The Alarm, Decade: 2010s Song: Let Me Love You (Until You Learn To Love Yourself), Decade: 2010s Song: All We Know, Decade: 2010s Song: S&M, Decade: 2010s Song: Timber (feat. Ke$ha), Decade: 2010s Song: Location, Decade: 2010s Song: Bad Blood, Decade: 2010s Song: Believer, Decade: 2010s Song: Kattu Mooliyo, Decade: 2010s Song: Blame (feat. John Newman), Decade: 2010s Song: Ángel - Once in Your Lifetime, Decade: 2010s Song: Clap Back, Decade: 2010s Song: Junto Al Amanecer, Decade: 2010s Song: Around the World (La La La La La) - Radio Version, Decade: 2010s Song: My Songs Know What You Did In The Dark (Light Em Up), Decade: 2010s Song: Baamulaiza, Decade: 2010s Song: Fast Car, Decade: 2010s Song: Atlantis - Extra Sped Up Version, Decade: 2010s Song: Riptide, Decade: 2010s Song: Moves Like Jagger - Studio Recording From \"The Voice\" Performance, Decade: 2010s Song: Give It To Me, Decade: 2010s Song: Fallin', Decade: 2010s Song: Someone Like You, Decade: 2010s Song: Gonna Love Me, Decade: 2010s Song: Come to Me, Decade: 2010s Song: Dancing On My Own, Decade: 2010s Song: En el 2000, Decade: 2010s Song: Sing, Decade: 2010s Song: Trop beau, Decade: 2010s Song: Photograph, Decade: 2010s Song: Work This Body, Decade: 2010s Song: I Know What You Want (feat. Flipmode Squad), Decade: 2010s Song: MAMIII, Decade: 2010s Song: You Make Me, Decade: 2010s Song: Flowers, Decade: 2010s Song: Blank Space, Decade: 2010s Song: Sign of the Times, Decade: 2010s Song: We Found Love, Decade: 2010s Song: Thinkin Bout You, Decade: 2010s Song: Last Friday Night (T.G.I.F.), Decade: 2010s Song: Young And Beautiful, Decade: 2010s Song: Hey There Delilah, Decade: 2010s Song: Dancing On My Own - Radio Edit, Decade: 2010s Song: Ain't Your Mama, Decade: 2010s Song: Friends (with BloodPop®), Decade: 2010s Song: TiK ToK, Decade: 2010s Song: Chillena, Decade: 2010s Song: Nothing Breaks Like a Heart (feat. Miley Cyrus), Decade: 2010s Song: broken, Decade: 2010s Song: Aalolam, Decade: 2010s Song: Come and See Me (feat. Drake), Decade: 2010s Song: Thaarapadhamaake, Decade: 2010s Song: If We Ever Broke Up, Decade: 2010s Song: For the First Time, Decade: 2010s Song: Latch, Decade: 2010s Song: Fireball (feat. John Ryan), Decade: 2010s Song: Young Forever, Decade: 2010s Song: Una Lady Como Tú, Decade: 2010s Song: Tattoo, Decade: 2010s Song: Oruvaan Irruvaan, Decade: 2010s Song: Waka Waka (Esto Es Africa) - K-Mix, Decade: 2010s Song: Never Say Never, Decade: 2010s Song: BREAK MY SOUL, Decade: 2010s Song: Circus, Decade: 2010s Song: Saree Ke Fall Sa, Decade: 2010s Song: Paris, Decade: 2010s Song: Still Rollin, Decade: 2010s Song: Catch Me If You Can, Decade: 2010s Song: Po Nee Po - The Pain of Love, Decade: 2010s Song: Right Round (feat. Ke$ha), Decade: 2010s Song: Life Is Crazy, Decade: 2010s Song: Objects in the Mirror, Decade: 2010s Song: LA CANCIÓN, Decade: 2010s Song: Bhoot (From \"F.A.L.T.U\"), Decade: 2010s Song: Stay With Me, Decade: 2010s Song: Maria Maria (feat. The Product G&B), Decade: 2010s Song: Party, Decade: 2010s Song: Bad Memories (feat. Elley Duhé & FAST BOY), Decade: 2010s Song: D'Evils, Decade: 2010s Song: Treat You Better, Decade: 2010s Song: Wake Me up When September Ends, Decade: 2010s Song: Break My Stride, Decade: 2010s Song: Confident - Single Version, Decade: 2010s Song: HP, Decade: 2010s Song: Love The Way You Lie, Decade: 2010s Song: Mis Ojos Lloran Por Ti, Decade: 2010s Song: Umbrella, Decade: 2010s Song: Waka Waka (This Time for Africa) [The Official 2010 FIFA World Cup (TM) Song] (feat. Freshlyground), Decade: 2010s Song: City Of Dreams - Radio Edit, Decade: 2010s Song: California Gurls, Decade: 2010s Song: Vacaciones, Decade: 2010s Song: Don't, Decade: 2010s Song: Rude, Decade: 2010s Song: Go Bang, Decade: 2010s Song: Traag, Decade: 2010s Song: Paris, Decade: 2010s Song: Where Have You Been, Decade: 2010s Song: If I Lose Myself - Alesso vs OneRepublic, Decade: 2010s Song: Billionaire (feat. Bruno Mars), Decade: 2010s Song: Ghost, Decade: 2010s Song: Yathe Yathe, Decade: 2010s Song: Bathing at Cannes, Decade: 2010s Song: We Found Love, Decade: 2010s Song: What's My Name?, Decade: 2010s Song: Need to Know, Decade: 2010s Song: In My Mind, Decade: 2010s Song: Tum Tak, Decade: 2010s Song: Instant Crush (feat. Julian Casablancas), Decade: 2010s Song: Use Somebody, Decade: 2010s Song: Les filles d'aujourd'hui, Decade: 2010s Song: Summer, Decade: 2010s Song: Lighters, Decade: 2010s Song: Bad Romance, Decade: 2010s Song: 7 rings, Decade: 2010s Song: Feel So Close - Radio Edit, Decade: 2010s Song: Gal Mitthi Mitthi (From \"Aisha\"), Decade: 2010s Song: It's Not Living (If It's Not With You), Decade: 2010s Song: Velitas, Decade: 2010s Song: Chasing The Sun, Decade: 2010s Song: Naino Mein Sapna (Recreated By Sajid-Wajid), Decade: 2010s Song: Alors on danse - Radio Edit, Decade: 2010s Song: Something Just Like This, Decade: 2010s Song: Mi Mayor Venganza, Decade: 2010s Song: Tere Bina, Decade: 2010s Song: Congratulations, Decade: 2010s Song: High Hopes, Decade: 2010s Song: Nada Valgo Sin Tu Amor, Decade: 2010s Song: Dance with Me Tonight, Decade: 2010s Song: Beautiful Girls, Decade: 2010s Song: Sueños Rotos, Decade: 2010s Song: Pompeii, Decade: 2010s Song: Reggae & Calypso (Russ Millions x Buni x YV), Decade: 2010s Song: Some, Decade: 2010s Song: Glimpse of Us, Decade: 2010s Song: Je te le donne, Decade: 2010s Song: Swish Swish, Decade: 2010s Song: Nice For What, Decade: 2010s Song: Half of My Heart, Decade: 2010s Song: Till The Sky Falls Down, Decade: 2010s Song: Right My Wrongs, Decade: 2010s Song: Psycho, Decade: 2010s Song: Sovereign Light Café, Decade: 2010s Song: Magic (feat. Rivers Cuomo), Decade: 2010s Song: Her Way, Decade: 2010s Song: Papaoutai, Decade: 2010s Song: Feel It Still, Decade: 2010s Song: Non non non (Ecouter Barbara), Decade: 2010s Song: Nilamalare, Decade: 2010s Song: Taki Taki (feat. Selena Gomez, Ozuna & Cardi B), Decade: 2010s Song: TQG, Decade: 2010s Song: Try Sleeping with a Broken Heart, Decade: 2010s Song: Novacane, Decade: 2010s Song: Call Out My Name, Decade: 2010s Song: Ain't Nobody (Loves Me Better) (feat. Jasmine Thompson), Decade: 2010s Song: Fancy, Decade: 2010s Song: Ora Kannala, Decade: 2010s Song: P.I.M.P., Decade: 2010s Song: Devil Eyes, Decade: 2010s Song: Beautiful Monster, Decade: 2010s Song: Orey Oru, Decade: 2010s Song: Ni**as In Paris, Decade: 2010s Song: Shah Ka Rutba, Decade: 2010s Song: Fireflies, Decade: 2010s Song: Namosthuthe, Decade: 2010s Song: On The Floor, Decade: 2010s Song: Taki Taki (Recreated By Sajid-Wajid), Decade: 2010s Song: Starlight, Decade: 2010s Song: American Boy (feat. Kanye West), Decade: 2010s Song: Neelambalin, Decade: 2010s Song: Alejandro, Decade: 2010s Song: Algo Más, Decade: 2010s Song: On And On, Decade: 2010s Song: Brother, Decade: 2010s Song: Pero Me Acuerdo de Tí, Decade: 2010s Song: Say So, Decade: 2010s Song: We Found Love, Decade: 2010s Song: Nice For What, Decade: 2010s Song: Loba, Decade: 2010s Song: Love The Way You Lie, Decade: 2010s Song: SexyBack (feat. Timbaland), Decade: 2010s Song: The Motto, Decade: 2010s Song: My Shit, Decade: 2010s Song: Marry You, Decade: 2010s Song: Dior, Decade: 2010s Song: Love Sosa, Decade: 2010s Song: Paradise, Decade: 2010s Song: Titanium (feat. Sia), Decade: 2010s Song: Not Over Yet (feat. Tom Grennan), Decade: 2010s Song: Glad You Came, Decade: 2010s Song: Show Me Love - Radio Edit, Decade: 2010s Song: La Bilirrubina, Decade: 2010s Song: Post Malone (feat. RANI), Decade: 2010s Song: The Monster, Decade: 2010s Song: Stereo Love - Radio Edit, Decade: 2010s Song: Amor Clandestino, Decade: 2010s Song: Ric Flair Drip (with Metro Boomin), Decade: 2010s Song: Bang Bang, Decade: 2010s Song: Un Siglo Sin Ti, Decade: 2010s Song: Unconditionally, Decade: 2010s Song: Party Up (Up in Here) - Re-Recorded, Decade: 2010s Song: Year 3000, Decade: 2010s Song: Sugar (feat. Wynter), Decade: 2010s Song: Whistle (feat. Calum Scott), Decade: 2010s Song: Cola Song (feat. J Balvin), Decade: 2010s Song: Ain't It Fun, Decade: 2010s Song: This Ain't a Love Song, Decade: 2010s Song: Swing, Decade: 2010s Song: Despedida, Decade: 2010s Song: Para Tu Amor, Decade: 2010s Song: Higher Love, Decade: 2010s Song: No Money, Decade: 2010s Song: Don't You Know - Radio Edit, Decade: 2010s Song: Problem, Decade: 2010s Song: Paris-Seychelles, Decade: 2010s Song: Bumpy Ride, Decade: 2010s Song: Thrift Shop (feat. Wanz), Decade: 2010s Song: Hum Kis Galli Ja Rahe Hain, Decade: 2010s Song: Las de la Intuición, Decade: 2010s Song: Sorry, Decade: 2010s Song: 105 F Remix, Decade: 2010s Song: London Bridge, Decade: 2010s Song: Addicted To You, Decade: 2010s Song: Rosas, Decade: 2010s Song: Love On The Brain, Decade: 2010s Song: Like A G6, Decade: 2010s Song: Mayores, Decade: 2010s Song: El Merengue, Decade: 2010s Song: Godspeed, Decade: 2010s Song: Year Of Summer - Radio Edit, Decade: 2010s Song: Better Now, Decade: 2010s Song: Dynamite, Decade: 2010s Song: Bleeding Love, Decade: 2010s Song: Ahora Quien - Salsa Version, Decade: 2010s Song: Runnin', Decade: 2010s Song: Revenge, Decade: 2010s Song: Lose Yourself, Decade: 2010s Song: Cooler Than Me (feat. Big Sean), Decade: 2010s Song: Nee... Naan..., Decade: 2010s Song: Antologia, Decade: 2010s Song: Dutty Love, Decade: 2010s Song: Thazhvaram, Decade: 2010s Song: I Don’t Wanna Live Forever (Fifty Shades Darker), Decade: 2010s Song: Awkward, Decade: 2010s Song: Maa Da Laadla, Decade: 2010s Song: The One That Got Away, Decade: 2010s Song: Play Hard (feat. Ne-Yo & Akon), Decade: 2010s Song: Baby Don't Hurt Me, Decade: 2010s Song: Youngblood, Decade: 2010s Song: Prayer in C - Robin Schulz Radio Edit, Decade: 2010s Song: Telephone, Decade: 2010s Song: Let Me Love You, Decade: 2010s Song: Hips Don't Lie (feat. Wyclef Jean), Decade: 2010s Song: Say You Won't Let Go, Decade: 2010s Song: All Around the World, Decade: 2010s Song: Live Like We're Dying, Decade: 2010s Song: Hello (feat. Dragonette), Decade: 2010s Song: Ice On My Baby (feat. Kevin Gates) - Remix, Decade: 2010s Song: FourFiveSeconds, Decade: 2010s Song: Sky and Sand, Decade: 2010s Song: PERSIAN RUGS, Decade: 2010s Song: The Next Episode, Decade: 2010s Song: Adrenalina (feat. Jennifer Lopez & Ricky Martin), Decade: 2010s Song: All Summer Long, Decade: 2010s Song: Payphone, Decade: 2010s Song: Shaky Shaky, Decade: 2010s Song: Take Me To Church, Decade: 2010s Song: In My Head, Decade: 2010s Song: I Need a Girl (Pt. 2) [feat. Loon, Ginuwine, Mario Winans], Decade: 2010s Song: Just Wanna Rock, Decade: 2010s Song: American Boy, Decade: 2010s Song: Break Your Heart, Decade: 2010s Song: Roses - Imanbek Remix, Decade: 2010s Song: Ballin' (with Roddy Ricch), Decade: 2010s Song: Carry On, Decade: 2010s Song: Tremor - Sensation 2014 Anthem, Decade: 2010s Song: Give Me Everything (feat. Ne-Yo, Afrojack & Nayer), Decade: 2010s Song: Aguanile, Decade: 2010s Song: Bahara, Decade: 2010s Song: Substitution (feat. Julian Perretta), Decade: 2010s Song: Halo, Decade: 2010s Song: Ex's & Oh's, Decade: 2010s Song: Te Quemaste, Decade: 2010s Song: Cold Water (feat. Justin Bieber & MØ), Decade: 2010s Song: Right Round, Decade: 2010s Song: Whistle, Decade: 2010s Song: Say It, Decade: 2010s Song: Drunk, Decade: 2010s Song: lovely (with Khalid), Decade: 2010s Song: Fanfarrón, Decade: 2010s Song: Me Rehúso, Decade: 2010s Song: Catch Up, Decade: 2010s Song: Big Boom, Decade: 2010s Song: The Hills, Decade: 2010s Song: Just A Dream - Main, Decade: 2010s Song: Say Aah (feat. Fabolous), Decade: 2010s Song: Sucker, Decade: 2010s Song: Stronger, Decade: 2010s Song: Nothin' on You (feat. Bruno Mars), Decade: 2010s Song: Papamericano, Decade: 2010s Song: MOJABI GHOST, Decade: 2010s Song: Quizas, Decade: 2010s Song: If Only I (feat. Bebe Rexha), Decade: 2010s Song: Wannabe, Decade: 2010s Song: 2 Be Loved (Am I Ready), Decade: 2010s Song: Eat Sleep Rave Repeat (feat. Beardyman) - Calvin Harris Radio Edit, Decade: 2010s Song: How Do You Sleep?, Decade: 2010s Song: Middle, Decade: 2010s Song: You Found Me, Decade: 2010s Song: Girls Like You (feat. Cardi B) - Cardi B Version, Decade: 2010s Song: Good Life, Decade: 2010s Song: Forca!, Decade: 2010s Song: Katy on a Mission, Decade: 2010s Song: Chillax, Decade: 2010s Song: Tujhpe Fida (From \"Heroine\"), Decade: 2010s Song: MALAMENTE - Cap.1: Augurio, Decade: 2010s Song: Madre Tierra (Oye), Decade: 2010s Song: Obsesion, Decade: 2010s Song: E.T., Decade: 2010s Song: Despacito - Remix, Decade: 2010s Song: Mazhaneer Thullikal (Male), Decade: 2010s Song: I Love It (feat. Charli XCX), Decade: 2010s Song: Unnaal Unnaal, Decade: 2010s Song: Un Mela Aasadhaan, Decade: 2010s Song: You Need To Calm Down, Decade: 2010s Song: Tu Amor Me Hace Bien - Salsa Version, Decade: 2010s Song: Empire State Of Mind, Decade: 2010s Song: Whenever, Wherever, Decade: 2010s Song: Sweater Weather, Decade: 2010s Song: Nenjodu Cherthu, Decade: 2010s Song: Symphony (feat. Zara Larsson), Decade: 2010s Song: Loca (feat. El Cata), Decade: 2010s Song: Mi Bendición, Decade: 2010s Song: Todo Cambió, Decade: 2010s Song: I Took A Pill In Ibiza - Seeb Remix, Decade: 2010s Song: Got 2 Luv U (feat. Alexis Jordan), Decade: 2010s Song: Afraid To Feel, Decade: 2010s Song: Girl With The Tattoo Enter.lewd, Decade: 2010s Song: Whip My Hair, Decade: 2010s Song: Pavizha Mazha, Decade: 2010s Song: All of Me, Decade: 2010s Song: Premikkumbol - From \"Salt & Pepper\", Decade: 2010s Song: Stand by Me, Decade: 2010s Song: Turn Down for What, Decade: 2010s Song: Adadaa Oru, Decade: 2010s Song: Waiting For Love, Decade: 2010s Song: Corazon Espinado (feat. Mana), Decade: 2010s Song: Do It To It, Decade: 2010s Song: Dhoop, Decade: 2010s Song: No Control, Decade: 2010s Song: STAR WALKIN' (League of Legends Worlds Anthem), Decade: 2010s Song: Lost in the Fire (feat. The Weeknd), Decade: 2010s Song: Sprinter, Decade: 2010s Song: Body (feat. brando), Decade: 2010s Song: Circles, Decade: 2010s Song: Scream & Shout, Decade: 2010s Song: Kill Bill, Decade: 2010s Song: Kids, Decade: 2010s Song: Hot N Cold, Decade: 2010s Song: Perfect Strangers, Decade: 2010s Song: Jour 1, Decade: 2010s Song: SOS, Decade: 2010s Song: Levels, Decade: 2010s Song: Andas En Mi Cabeza, Decade: 2010s Song: Massive, Decade: 2010s Song: Genie In a Bottle, Decade: 2010s Song: Cheap Thrills, Decade: 2010s Song: Wow., Decade: 2010s Song: My Life Would Suck Without You, Decade: 2010s Song: I Ain't Worried, Decade: 2010s Song: Leaving You, Decade: 2010s Song: Keeps Gettin' Better, Decade: 2010s Song: Yoü And I, Decade: 2010s Song: Innum Konjam Naeram, Decade: 2010s Song: Die For You, Decade: 2010s Song: Little Things x Gypsy Woman - L BEATS MASHUP, Decade: 2010s Song: Baja la Tensión, Decade: 2010s Song: À nos souvenirs, Decade: 2010s Song: Where Did You Go? (feat. MNEK), Decade: 2010s Song: How You Love Me, Decade: 2010s Song: Yenna Solla Pore, Decade: 2010s Song: So Am I, Decade: 2010s Song: Animals, Decade: 2010s Song: Kozhu Kozhu, Decade: 2010s Song: Music For a Sushi Restaurant, Decade: 2010s Song: Es un Secreto, Decade: 2010s Song: Everybody in Love, Decade: 2010s Song: Timber (feat. Ke$ha), Decade: 2010s Song: Cuídate, Decade: 2010s Song: Te Boté - Remix, Decade: 2010s Song: Mi Gente, Decade: 2010s Song: Ride Wit Me, Decade: 2010s Song: Papi, Decade: 2010s Song: So Close, Decade: 2010s Song: Thinking out Loud, Decade: 2010s Song: No Hands (feat. Roscoe Dash & Wale), Decade: 2010s Song: Mazhakondu Mathram - Male Version, Decade: 2010s Song: Reggaetón Lento (Bailemos), Decade: 2010s Song: Secreto, Decade: 2010s Song: Madurai Ponnu, Decade: 2010s Song: Betty (Get Money), Decade: 2010s Song: What You Know, Decade: 2010s Song: The Edge Of Glory, Decade: 2010s Song: The Next Episode, Decade: 2010s Song: Hey Ya! - Radio Mix / Club Mix, Decade: 2010s Song: Little Lion Man, Decade: 2010s Song: Fast Car, Decade: 2010s Song: Beautiful Now, Decade: 2010s Song: Hell N Back, Decade: 2010s Song: Rauw Alejandro: Bzrp Music Sessions, Vol. 56, Decade: 2010s Song: How Would You Feel (Paean), Decade: 2010s Song: Heavy (feat. Kiiara), Decade: 2010s Song: Dhenam Dhenam, Decade: 2010s Song: Khabar Nahi, Decade: 2010s Song: Because Of You, Decade: 2010s Song: Look What You Made Me Do, Decade: 2010s Song: Unnai Kaanadhu Naan, Decade: 2010s Song: Swervin (feat. 6ix9ine), Decade: 2010s Song: Good Time, Decade: 2010s Song: Let Me Blow Ya Mind, Decade: 2010s Song: Revolution, Decade: 2010s Song: Thattathin Marayathe, Decade: 2010s Song: Sólo Quédate En Silencio, Decade: 2010s Song: Panda, Decade: 2010s Song: The Sweet Escape, Decade: 2010s Song: Post to Be (feat. Chris Brown & Jhene Aiko), Decade: 2010s Song: Macarena, Decade: 2010s Song: Ee Shishirakaalam, Decade: 2010s Song: China, Decade: 2010s Song: Move Ya Body, Decade: 2010s Song: Kalvare, Decade: 2010s Song: Sweet Creature, Decade: 2010s Song: Mazha Paadum, Decade: 2010s Song: Quiere Beber, Decade: 2010s Song: You, Decade: 2010s Song: First Class, Decade: 2010s Song: Since U Been Gone, Decade: 2010s Song: I Lived, Decade: 2010s Song: Alright, Decade: 2010s Song: Disturbia, Decade: 2010s Song: Shape of You, Decade: 2010s Song: Spaceman - Extended Mix, Decade: 2010s Song: Alejandro, Decade: 2010s Song: Virtual Insanity - Remastered, Decade: 2010s Song: Pégate (MTV Unplugged Version)[Radio Edit], Decade: 2010s Song: Die Young, Decade: 2010s Song: Hello, Decade: 2010s Song: Prometiste, Decade: 2010s Song: I Wanna Go, Decade: 2010s Song: When We Stand Together, Decade: 2010s Song: Waka Waka (This Time for Africa) [The Official 2010 FIFA World Cup (TM) Song] (feat. Freshlyground), Decade: 2010s Song: Sonna Puriyadhu, Decade: 2010s Song: Runaway (U & I), Decade: 2010s Song: Mor Bani Thanghat Kare, Decade: 2010s Song: Señorita, Decade: 2010s Song: Sigo Chambeando, Decade: 2010s Song: Suavemente, Decade: 2010s Song: Jeene Laga Hoon (From \"Ramaiya Vastavaiya\"), Decade: 2010s Song: Why'd You Only Call Me When You're High?, Decade: 2010s Song: Buy U a Drank (Shawty Snappin') (feat. Yung Joc), Decade: 2010s Song: The Edge Of Glory, Decade: 2010s Song: Every Kind Of Way, Decade: 2010s Song: I Don’t Wanna Live Forever (Fifty Shades Darker), Decade: 2010s Song: Adore You, Decade: 2010s Song: I Can't Stop, Decade: 2010s Song: Paparazzi, Decade: 2010s Song: Turn Me On, Decade: 2010s Song: J'ai cherché, Decade: 2010s Song: MONTERO (Call Me By Your Name), Decade: 2010s Song: Old Town Road - Remix, Decade: 2010s Song: No Me Mires Más, Decade: 2010s Song: Se Me Va La Voz, Decade: 2010s Song: Can't Feel My Face, Decade: 2010s Song: ELEMENT., Decade: 2010s Song: Rien qu'une fois, Decade: 2010s Song: Dígale, Decade: 2010s Song: THATS WHAT I WANT, Decade: 2010s Song: Sweet Lovin' - Radio Edit, Decade: 2010s Song: SNAP, Decade: 2010s Song: Hey Daddy (Daddy's Home), Decade: 2010s Song: Avenir - Radio Edit, Decade: 2010s Song: Outside (feat. Ellie Goulding), Decade: 2010s Song: Roses, Decade: 2010s Song: Neeyam Thanalinu (Duet), Decade: 2010s Song: Brazil, Decade: 2010s Song: Mr. Saxobeat - Radio Edit, Decade: 2010s Song: If U Seek Amy, Decade: 2010s Song: Tití Me Preguntó, Decade: 2010s Song: Low (feat. T-Pain), Decade: 2010s Song: La Gozadera (feat. Marc Anthony), Decade: 2010s Song: Break Your Heart, Decade: 2010s Song: Dial Drunk (with Post Malone), Decade: 2010s Song: Hello, Decade: 2010s Song: i'm so tired..., Decade: 2010s Song: Digits, Decade: 2010s Song: Break from Toronto, Decade: 2010s Song: Dangerous, Decade: 2010s Song: 22, Decade: 2010s Song: 21 Questions, Decade: 2010s Song: Uma Thurman, Decade: 2010s Song: Lose You To Love Me, Decade: 2010s Song: Hundred Miles, Decade: 2010s Song: Idhu Varai, Decade: 2010s Song: Hello, Decade: 2010s Song: Get Busy, Decade: 2010s Song: Try, Decade: 2010s Song: Me Dediqué a Perderte, Decade: 2010s Song: Stand By You, Decade: 2010s Song: Lean On, Decade: 2010s Song: Propuesta Indecente, Decade: 2010s Song: Ten Feet Tall, Decade: 2010s Song: Kanninima Neele - Version 1, Decade: 2010s Song: Soweto (with Don Toliver, Rema & Tempoe), Decade: 2010s Song: Rica y Apretadita (feat. Anayka), Decade: 2010s Song: Muthuchippi, Decade: 2010s Song: Nagada Sang Dhol, Decade: 2010s Song: Etho Mazhayil, Decade: 2010s Song: Starboy, Decade: 2010s Song: Tú No Eres Para Mi, Decade: 2010s Song: Centuries, Decade: 2010s Song: Magic, Decade: 2010s Song: Fortune Days, Decade: 2010s Song: Deva Shree Ganesha, Decade: 2010s Song: Makeba, Decade: 2010s Song: F**kin' Problems (feat. Drake, 2 Chainz & Kendrick Lamar), Decade: 2010s Song: Breakup Party, Decade: 2010s Song: Despacito - Remix, Decade: 2010s Song: What's Luv? (feat. Ja-Rule & Ashanti), Decade: 2010s Song: Disturbia, Decade: 2010s Song: Let's Get It Started - Spike Mix, Decade: 2010s Song: Shallow, Decade: 2010s Song: rockstar (feat. 21 Savage), Decade: 2010s Song: Amorfoda, Decade: 2010s Song: Energie, Decade: 2010s Song: Hold You - Hold Yuh, Decade: 2010s Song: Lullaby, Decade: 2010s Song: Broken Clocks, Decade: 2010s Song: Mele Vaanile, Decade: 2010s Song: Safari, Decade: 2010s Song: Island In The Sun, Decade: 2010s Song: Pularaan Neram, Decade: 2010s Song: Someone To You, Decade: 2010s Song: Hot (feat. Gunna), Decade: 2010s Song: Lean On (feat. MØ & DJ Snake), Decade: 2010s Song: What If I Never Get Over You, Decade: 2010s Song: Bulletproof, Decade: 2010s Song: BABY SAID, Decade: 2010s Song: Latch, Decade: 2010s Song: No Excuses, Decade: 2010s Song: Classy 101, Decade: 2010s Song: Love You Like A Love Song, Decade: 2010s Song: Set Fire to the Rain, Decade: 2010s Song: Rumour Has It, Decade: 2010s Song: Run It! (feat. Juelz Santana), Decade: 2010s Song: Starships, Decade: 2010s Song: Despacito, Decade: 2010s Song: Crank That (Soulja Boy), Decade: 2010s Song: DON'T YOU WORRY, Decade: 2010s Song: Suave (Kiss Me) (feat. Mohombi & Pitbull), Decade: 2010s Song: I'm Not The Only One, Decade: 2010s Song: Domino, Decade: 2010s Song: Drag Me Down, Decade: 2010s Song: Un homme debout, Decade: 2010s Song: Sunflower - Spider-Man: Into the Spider-Verse, Decade: 2010s Song: E.T., Decade: 2010s Song: Needed Me, Decade: 2010s Song: Slow Hands, Decade: 2010s Song: Hollaback Girl, Decade: 2010s Song: Crazy What Love Can Do, Decade: 2010s Song: Stay, Decade: 2010s Song: Bin Tere, Decade: 2010s Song: Chicago, Decade: 2010s Song: Me Rehúso, Decade: 2010s Song: Shake It Off, Decade: 2010s Song: I Know You Want Me (Calle Ocho), Decade: 2010s Song: Where Have You Been, Decade: 2010s Song: 6 Foot 7 Foot, Decade: 2010s Song: Chantaje (feat. Maluma), Decade: 2010s Song: Idai Vazhi, Decade: 2010s Song: FRIENDS, Decade: 2010s Song: King, Decade: 2010s Song: Never Forget You, Decade: 2010s Song: Bound 2, Decade: 2010s Song: El Chico Del Apartamento 512, Decade: 2010s Song: Lip Gloss, Decade: 2010s Song: J'me tire, Decade: 2010s Song: Kannazhaga - The Kiss of Love, Decade: 2010s Song: Doja, Decade: 2010s Song: 6 Foot 7 Foot, Decade: 2010s Song: A Thousand Years, Decade: 2010s Song: Birthday, Decade: 2010s Song: Shukran Allah, Decade: 2010s Song: 11 PM, Decade: 2010s Song: Gold Dust - Radio Edit, Decade: 2010s Song: El Perdón (with Enrique Iglesias), Decade: 2010s Song: Alive, Decade: 2010s Song: Chosen (feat. Ty Dolla $ign), Decade: 2010s Song: Single Ladies (Put a Ring on It), Decade: 2010s Song: Honey, I'm Good., Decade: 2010s Song: Ready or Not, Decade: 2010s Song: That's What I Like, Decade: 2010s Song: In the Name of Love, Decade: 2010s Song: Glad You Came - 2021 Master, Decade: 2010s Song: Maps, Decade: 2010s Song: Paparazzi, Decade: 2010s Song: Mi Santa (feat. Tomatito), Decade: 2010s Song: Dulce Soledad, Decade: 2010s Song: You & Me Song, Decade: 2010s Song: The Disco Song (From \"Student of the Year\"), Decade: 2010s Song: Toulouse - Bobby Anthony Vocal Mix, Decade: 2010s Song: The Middle, Decade: 2010s Song: Anti-Hero, Decade: 2010s Song: Roar, Decade: 2010s Song: Desconocidos, Decade: 2010s Song: Good Girls Go Bad (feat. Leighton Meester), Decade: 2010s Song: I Knew You Were Trouble., Decade: 2010s Song: Naane Indhiran, Decade: 2010s Song: La La La, Decade: 2010s Song: Hey Brother, Decade: 2010s Song: Cut To The Feeling, Decade: 2010s Song: The Climb, Decade: 2010s Song: Mama, Decade: 2010s Song: It Will Rain, Decade: 2010s Song: Tal Vez, Decade: 2010s Song: I Hate Luv Storys, Decade: 2010s Song: Etho Sayana, Decade: 2010s Song: Faded, Decade: 2010s Song: Si No Le Contesto, Decade: 2010s Song: UNAVAILABLE (feat. Musa Keys), Decade: 2010s Song: Ilegal, Decade: 2010s Song: Le Graal, Decade: 2010s Song: Longtemps, Decade: 2010s Song: Blame Brett, Decade: 2010s Song: If I Die Young, Decade: 2010s Song: Nachde Punjabi, Decade: 2010s Song: Nada, Decade: 2010s Song: Walk On Water, Decade: 2010s Song: For Keeps, Decade: 2010s Song: Me Muero, Decade: 2010s Song: Heal, Decade: 2010s Song: Be Intehaan (From \"Race 2\"), Decade: 2010s Song: , Decade: 2010s Song: Walk It Talk It, Decade: 2010s Song: Drunk (And I Don't Wanna Go Home), Decade: 2010s Song: Furious, Decade: 2010s Song: Kings & Queens, Decade: 2010s Song: Mun Andhi, Decade: 2010s Song: Calling (Lose My Mind) - Radio Edit, Decade: 2010s Song: Hall of Fame (feat. will.i.am), Decade: 2010s Song: Ee Mizhikalin, Decade: 2010s Song: Forever, Decade: 2010s Song: Thats All I Really Wanna Do (From \"Teri Meri Kahaani\"), Decade: 2010s Song: About Damn Time, Decade: 2010s Song: Get Lucky (Radio Edit) [feat. Pharrell Williams and Nile Rodgers], Decade: 2010s Song: Old Town Road, Decade: 2010s Song: In My Mind - Axwell Radio Edit, Decade: 2010s Song: Cooped Up / Return Of The Mack, Decade: 2010s Song: Popular (with Playboi Carti & Madonna) - Music from the HBO Original Series, Decade: 2010s Song: Gang Over Luv, Decade: 2010s Song: Borro Cassette, Decade: 2010s Song: Dance Monkey, Decade: 2010s Song: Nee Yeppo Pulla, Decade: 2010s Song: Ummachchi Ummachchi, Decade: 2010s Song: Break Free, Decade: 2010s Song: Love On Top, Decade: 2010s Song: I Want You To Know, Decade: 2010s Song: Can't Be Tamed, Decade: 2010s Song: Players, Decade: 2010s Song: I Want You Around, Decade: 2010s Song: Mr. Saxobeat - Radio Edit, Decade: 2010s Song: Little Talks, Decade: 2010s Song: Before You Go, Decade: 2010s Song: WHERE SHE GOES, Decade: 2010s Song: Semilla Negra, Decade: 2010s Song: Hotline Bling, Decade: 2010s Song: What Do You Mean?, Decade: 2010s Song: Destination Calabria - Radio Edit, Decade: 2010s Song: Friday (feat. Mufasa & Hypeman) - Dopamine Re-Edit, Decade: 2010s Song: Sadka, Decade: 2010s Song: Burn, Decade: 2010s Song: Waka Waka (This Time for Africa) - K-Mix, Decade: 2010s Song: Adventure of a Lifetime, Decade: 2010s Song: Truth Hurts, Decade: 2010s Song: Sexy Bitch (feat. Akon), Decade: 2010s Song: Paakaadhae Paakaadhae, Decade: 2010s Song: When A Fire Starts To Burn, Decade: 2010s Song: Thong Song, Decade: 2010s Song: Angnyaade, Decade: 2010s Song: Gorgeous, Decade: 2010s Song: Latch, Decade: 2010s Song: Jadoo Ki Jhappi, Pt. 1 (From \"Ramaiya Vastavaiya\"), Decade: 2010s Song: Doses & Mimosas, Decade: 2010s Song: All Around The World (La La La), Decade: 2010s Song: Not Afraid, Decade: 2010s Song: Young Dumb & Broke, Decade: 2010s Song: Humse Pyaar Kar Le Tu (Remix), Decade: 2010s Song: Nanadakumara, Decade: 2010s Song: Rap God, Decade: 2010s Song: Cold Heart - PNAU Remix, Decade: 2010s Song: Somebody That I Used To Know, Decade: 2010s Song: Amo, Decade: 2010s Song: Dear Future Husband, Decade: 2010s Song: Suge, Decade: 2010s Song: Teenage Dream, Decade: 2010s Song: How Deep Is Your Love, Decade: 2010s Song: Mirrors, Decade: 2010s Song: Tujh Mein Rab Dikhta Hai (From \"Rab Ne Bana Di Jodi\"), Decade: 2010s Song: Someone Like You, Decade: 2010s Song: Bottoms Up (feat. Nicki Minaj), Decade: 2010s Song: Raanjhanaa, Decade: 2010s Song: Live While We're Young, Decade: 2010s Song: Mukhtasar (From \"Teri Meri Kahaani\"), Decade: 2010s Song: Wild for the Night (feat. Skrillex & Birdy Nam Nam), Decade: 2010s Song: Bloody Mary, Decade: 2010s Song: Omana Penne, Decade: 2010s Song: goosebumps, Decade: 2010s Song: Wiggle (feat. Snoop Dogg), Decade: 2010s Song: Athmavile, Decade: 2010s Song: Under Control (feat. Hurts), Decade: 2010s Song: Blah Blah Blah, Decade: 2010s Song: Cool for the Summer, Decade: 2010s Song: Ass Back Home (feat. Neon Hitch), Decade: 2010s Song: Corazón Sin Cara, Decade: 2010s Song: Shakira: Bzrp Music Sessions, Vol. 53, Decade: 2010s Song: Amnesia, Decade: 2010s Song: Levels - Radio Edit, Decade: 2010s Song: DJ Got Us Fallin' In Love (feat. Pitbull), Decade: 2010s Song: Ser O Parecer, Decade: 2010s Song: Never Recover (Lil Baby & Gunna, Drake), Decade: 2010s Song: Alone, Decade: 2010s Song: Outta Control - Remix, Decade: 2010s Song: Yo Quisiera, Decade: 2010s Song: BedRock, Decade: 2010s Song: De Qué Me Sirve la Vida, Decade: 2010s Song: Havana (feat. Young Thug), Decade: 2010s Song: Good Days, Decade: 2010s Song: Nenjae Yezhu, Decade: 2010s Song: Home, Decade: 2010s Song: De Dana Dan, Decade: 2010s Song: El Sol No Regresa, Decade: 2010s Song: What You Heard, Decade: 2010s Song: Psycho (feat. Ty Dolla $ign), Decade: 2010s Song: Sure Thing, Decade: 2010s Song: Walking with Elephants, Decade: 2010s Song: E.T., Decade: 2010s Song: The Next Episode, Decade: 2010s Song: Cherathukal, Decade: 2010s Song: Piece of Me, Decade: 2010s Song: Miracle (with Ellie Goulding), Decade: 2010s Song: Kaathirunnu, Decade: 2010s Song: Creo en Ti, Decade: 2010s Song: Padam Padam, Decade: 2010s Song: Fire Burning, Decade: 2010s Song: Arroyito, Decade: 2010s Song: ANTIFRAGILE, Decade: 2010s Song: Apollo, Decade: 2010s Song: Angel, Decade: 2010s Song: Call Me Maybe, Decade: 2010s Song: Addicted to You, Decade: 2010s Song: Una Vaina Loca, Decade: 2010s Song: Bad Blood, Decade: 2010s Song: DE CAROLINA, Decade: 2010s Song: Watch Out For This (Bumaye), Decade: 2010s Song: In My Blood, Decade: 2010s Song: Pa Mí - Remix, Decade: 2010s Song: How Long Will I Love You, Decade: 2010s Song: Wavin' Flag, Decade: 2010s Song: Tu Falta De Querer, Decade: 2010s Song: Clarity, Decade: 2010s Song: Slow Motion, Decade: 2010s Song: WICKED GYAL, Decade: 2010s Song: Mírame - Remix, Decade: 2010s Song: Where Them Girls At (feat. Nicki Minaj & Flo Rida), Decade: 2010s Song: Toxic Pony, Decade: 2010s Song: Down On Me, Decade: 2010s Song: Alejandro, Decade: 2010s Song: Shot At The Night, Decade: 2010s Song: Another Love (Tom Odell) - sped up, Decade: 2010s Song: Boyfriend, Decade: 2010s Song: Mississippi Queen, Decade: 2010s Song: Deuces (feat. Tyga & Kevin McCall), Decade: 2010s Song: Take over Control (feat. Eva Simons), Decade: 2010s Song: The Anchor, Decade: 2010s Song: Right Now (Na Na Na), Decade: 2010s Song: Oday Oday, Decade: 2010s Song: oui, Decade: 2010s Song: Yoü And I, Decade: 2010s Song: Mine, Decade: 2010s Song: Brother (feat. Gavin DeGraw), Decade: 2010s Song: Pray For Me (with Kendrick Lamar), Decade: 2010s Song: New Rules, Decade: 2010s Song: I Could Be The One (Avicii Vs. Nicky Romero) - Radio Edit, Decade: 2010s Song: Uyirin Naadhane - From \"Joseph\", Decade: 2010s Song: Te Robaré, Decade: 2010s Song: In Your Eyes, Decade: 2010s Song: Boy Oh Boy, Decade: 2010s Song: Oye Mujer, Decade: 2010s Song: Plain Jane, Decade: 2010s Song: Munch (Feelin’ U), Decade: 2010s Song: Love Me Like You Do - From \"Fifty Shades Of Grey\", Decade: 2010s Song: See You Again (feat. Kali Uchis), Decade: 2010s Song: Gale Lag Ja, Decade: 2010s Song: Ali Maula, Decade: 2010s Song: Ridin', Decade: 2010s Song: Can't Feel My Face, Decade: 2010s Song: I Don't Care (with Justin Bieber), Decade: 2010s Song: 151 Rum, Decade: 2010s Song: Nunca Es Suficiente, Decade: 2010s Song: Sonapareeya, Decade: 2010s Song: Let Her Go, Decade: 2010s Song: Into You, Decade: 2010s Song: Right Thurr, Decade: 2010s Song: I Like It, Decade: 2010s Song: Last Friday Night (T.G.I.F.), Decade: 2010s Song: Malare, Decade: 2010s Song: Azhage Azhage, Decade: 2010s Song: New Flame (feat. Usher & Rick Ross), Decade: 2010s Song: Sweetest Pie, Decade: 2010s Song: Désolé, Decade: 2010s Song: Ride, Decade: 2010s Song: Bombos y Tarolas, Decade: 2010s Song: Unstoppable, Decade: 2010s Song: Dancing With A Stranger (with Normani), Decade: 2010s Song: Euphoria - Single Version, Decade: 2010s Song: On My Mind, Decade: 2010s Song: Foolish, Decade: 2010s Song: Barbie World (with Aqua) [From Barbie The Album], Decade: 2010s Song: Judas, Decade: 2010s Song: Titanium (feat. Sia), Decade: 2010s Song: Vienna, Decade: 2010s Song: Same Old Love, Decade: 2010s Song: What Do You Mean?, Decade: 2010s Song: Love Never Felt So Good, Decade: 2010s Song: Umbrella, Decade: 2010s Song: X (feat. Future), Decade: 2010s Song: Only, Decade: 2010s Song: This One's for You (feat. Zara Larsson) (Official Song UEFA EURO 2016), Decade: 2010s Song: Red Hands, Decade: 2010s Song: Glamorous, Decade: 2010s Song: Body, Decade: 2010s Song: Jaane Kyun, Decade: 2010s Song: Telephone, Decade: 2010s Song: Summer Of Love, Decade: 2010s Song: Your Love Is My Drug, Decade: 2010s Song: Don't Stop The Music, Decade: 2010s Song: Víveme, Decade: 2010s Song: Troublemaker (feat. Flo Rida), Decade: 2010s Song: Havana (feat. Young Thug), Decade: 2010s Song: Sorry, Decade: 2010s Song: Yaar Indha Saalai Oram, Decade: 2010s Song: The Bad Touch, Decade: 2010s Song: En Vennilave, Decade: 2010s Song: Puedes Contar Conmigo, Decade: 2010s Song: Hands To Myself, Decade: 2010s Song: TiK ToK, Decade: 2010s Song: CUFF IT, Decade: 2010s Song: Feel Good Inc., Decade: 2010s Song: King, Decade: 2010s Song: Kattumele, Decade: 2010s Song: Shut Up & Bounce, Decade: 2010s Song: Rainbow, Decade: 2010s Song: You're Gonna Live Forever in Me, Decade: 2010s Song: Live My Life, Decade: 2010s Song: Bitch Please, Decade: 2010s Song: Aa Jao Meri Tamanna (From \"Ajab Prem Ki Ghazab Kahani\"), Decade: 2010s Song: La Bachata, Decade: 2010s Song: Ferrari, Decade: 2010s Song: 4 Minutes (feat. Justin Timberlake & Timbaland), Decade: 2010s Song: SAD!, Decade: 2010s Song: Ghosts 'n' Stuff (feat. Rob Swire), Decade: 2010s Song: Cristina, Decade: 2010s Song: Solo (feat. Demi Lovato), Decade: 2010s Song: Private Landing (feat. Justin Bieber & Future), Decade: 2010s Song: Whatever It Takes, Decade: 2010s Song: Living In A Haze, Decade: 2010s Song: 1400 / 999 Freestyle, Decade: 2010s Song: I Don't Like, Decade: 2010s Song: Bakhuda Tumhi Ho, Decade: 2010s Song: Fourth Of July, Decade: 2010s Song: Solo, Decade: 2010s Song: Cruel Summer, Decade: 2010s Song: Golden, Decade: 2010s Song: Sad Machine, Decade: 2010s Song: Gangsta's Paradise, Decade: 2010s Song: Machi Open the Bottle, Decade: 2010s Song: Skyfall, Decade: 2010s Song: 10:35, Decade: 2010s Song: Mr. Saxobeat - Radio Edit, Decade: 2010s Song: Feel Good (feat. Daya), Decade: 2010s Song: The Real Slim Shady, Decade: 2010s Song: Poppin' Them Thangs, Decade: 2010s Song: Only Love Can Hurt Like This - Slowed Down Version, Decade: 2010s Song: My Love, Decade: 2010s Song: So What, Decade: 2010s Song: Unnale, Decade: 2010s Song: Baile De Los Pobres, Decade: 2010s Song: Ride It, Decade: 2010s Song: OTW, Decade: 2010s Song: Raise Your Glass, Decade: 2010s Song: Late Night Talking, Decade: 2010s Song: Chicken Fried, Decade: 2010s Song: Baila Baila Baila - Remix, Decade: 2010s Song: abcdefu, Decade: 2010s Song: The A Team, Decade: 2010s Song: Bodak Yellow, Decade: 2010s Song: Te Mando Flores, Decade: 2010s Song: Hell N Back, Decade: 2010s Song: Rabiosa (feat. Pitbull), Decade: 2010s Song: The Weekend, Decade: 2010s Song: Watermelon Sugar, Decade: 2010s Song: Them Changes, Decade: 2010s Song: Halkat Jawani, Decade: 2010s Song: Diamonds, Decade: 2010s Song: Wake Me Up, Decade: 2010s Song: Counting Stars, Decade: 2010s Song: No Me Doy Por Vencido, Decade: 2010s Song: The Middle, Decade: 2010s Song: Beauty And A Beat, Decade: 2010s Song: Without Me, Decade: 2010s Song: Ritual, Decade: 2010s Song: Pasos de cero, Decade: 2010s Song: Redbone, Decade: 2010s Song: Angels Like You, Decade: 2010s Song: Lose Control, Decade: 2010s Song: We Found Love, Decade: 2010s Song: Kickin’ Back, Decade: 2010s Song: What Do You Mean?, Decade: 2010s Song: Don't Wanna Know (feat. Kendrick Lamar), Decade: 2010s Song: Stronger (What Doesn't Kill You), Decade: 2010s Song: Pa' Olvidarme De Ella, Decade: 2010s Song: Catch & Release - Deepend Remix Extended Version, Decade: 2010s Song: Si Te Vas, Decade: 2010s Song: SOS, Decade: 2010s Song: Higher, Decade: 2010s Song: Superhero (Heroes & Villains) [with Future & Chris Brown], Decade: 2010s Song: Airplanes (feat. Hayley Williams of Paramore), Decade: 2010s Song: Style, Decade: 2010s Song: En Peligro de Extinción, Decade: 2010s Song: Do You Remember, Decade: 2010s Song: Heartbeat, Decade: 2010s Song: Fergalicious, Decade: 2010s Song: Womanizer, Decade: 2010s Song: Bad Habit, Decade: 2010s Song: FAKE LOVE, Decade: 2010s\n"
     ]
    }
   ],
   "source": [
    "print(*tracks_to_insert)"
   ]
  },
  {
   "attachments": {},
   "cell_type": "markdown",
   "metadata": {},
   "source": [
    "### Get all the audio featurees from a list of Spotify tracks"
   ]
  },
  {
   "cell_type": "code",
   "execution_count": 10,
   "metadata": {},
   "outputs": [],
   "source": [
    "def get_audio_features(track,spotify):\n",
    "    try:\n",
    "        audio_features = spotify.audio_features(track.uri)[0]\n",
    "        #print(audio_features)\n",
    "        if(audio_features is None):\n",
    "            return None\n",
    "        df_row ={\n",
    "            'track_uri':track.uri,'track_name':track.name,'decade':track.decade,\n",
    "            'danceability':audio_features['danceability'],\n",
    "            'energy':audio_features['energy'],\n",
    "            'key':audio_features['key'],\n",
    "            'loudness':audio_features['loudness'],\n",
    "            'mode':audio_features['mode'],\n",
    "            'speechiness':audio_features['speechiness'],\n",
    "            'acousticness':audio_features['acousticness'],\n",
    "            'instrumentalness':audio_features['instrumentalness'],\n",
    "            'liveness':audio_features['liveness'],\n",
    "            'valence':audio_features['valence'],\n",
    "            'tempo':audio_features['tempo']\n",
    "            }\n",
    "        return df_row\n",
    "    except Exception as e:\n",
    "        print(e)\n",
    "       \n",
    "\n",
    "def audio_features_all_tracks(tracks,spotify):\n",
    "    return pd.DataFrame([x for x in list(map(lambda x: get_audio_features(x,spotify),tracks)) if x is not None])"
   ]
  },
  {
   "cell_type": "code",
   "execution_count": 11,
   "metadata": {},
   "outputs": [],
   "source": [
    "tracks_to_insert= audio_features_all_tracks(tracks_to_insert,spotify)"
   ]
  },
  {
   "attachments": {},
   "cell_type": "markdown",
   "metadata": {},
   "source": [
    "### Concat new df with old one "
   ]
  },
  {
   "attachments": {},
   "cell_type": "markdown",
   "metadata": {},
   "source": [
    "DECADI FATTE:\\\n",
    "    -- 00\\\n",
    "    -- 90\\\n",
    "    -- 80\\\n",
    "    -- 70\\\n",
    "    -- 60 "
   ]
  },
  {
   "cell_type": "code",
   "execution_count": 13,
   "metadata": {},
   "outputs": [],
   "source": [
    "spotify_songs = pd.read_csv('spotify_songs_or.csv')"
   ]
  },
  {
   "cell_type": "code",
   "execution_count": 14,
   "metadata": {},
   "outputs": [],
   "source": [
    "spotify_songs = pd.concat([spotify_songs,tracks_to_insert])"
   ]
  },
  {
   "cell_type": "code",
   "execution_count": 15,
   "metadata": {},
   "outputs": [
    {
     "data": {
      "text/html": [
       "<div>\n",
       "<style scoped>\n",
       "    .dataframe tbody tr th:only-of-type {\n",
       "        vertical-align: middle;\n",
       "    }\n",
       "\n",
       "    .dataframe tbody tr th {\n",
       "        vertical-align: top;\n",
       "    }\n",
       "\n",
       "    .dataframe thead th {\n",
       "        text-align: right;\n",
       "    }\n",
       "</style>\n",
       "<table border=\"1\" class=\"dataframe\">\n",
       "  <thead>\n",
       "    <tr style=\"text-align: right;\">\n",
       "      <th></th>\n",
       "      <th>track_uri</th>\n",
       "      <th>track_name</th>\n",
       "      <th>decade</th>\n",
       "      <th>danceability</th>\n",
       "      <th>energy</th>\n",
       "      <th>key</th>\n",
       "      <th>loudness</th>\n",
       "      <th>mode</th>\n",
       "      <th>speechiness</th>\n",
       "      <th>acousticness</th>\n",
       "      <th>instrumentalness</th>\n",
       "      <th>liveness</th>\n",
       "      <th>valence</th>\n",
       "      <th>tempo</th>\n",
       "    </tr>\n",
       "  </thead>\n",
       "  <tbody>\n",
       "    <tr>\n",
       "      <th>0</th>\n",
       "      <td>spotify:track:21qnJAMtzC6S5SESuqQLEK</td>\n",
       "      <td>Pump Up The Jam</td>\n",
       "      <td>90s</td>\n",
       "      <td>0.885</td>\n",
       "      <td>0.844</td>\n",
       "      <td>10</td>\n",
       "      <td>-9.225</td>\n",
       "      <td>0</td>\n",
       "      <td>0.0733</td>\n",
       "      <td>0.014700</td>\n",
       "      <td>0.000004</td>\n",
       "      <td>0.0494</td>\n",
       "      <td>0.715</td>\n",
       "      <td>124.602</td>\n",
       "    </tr>\n",
       "    <tr>\n",
       "      <th>1</th>\n",
       "      <td>spotify:track:0eVZhPIexAYqdwKNqSp3Qm</td>\n",
       "      <td>All Outta Angst</td>\n",
       "      <td>90s</td>\n",
       "      <td>0.637</td>\n",
       "      <td>0.969</td>\n",
       "      <td>0</td>\n",
       "      <td>-4.682</td>\n",
       "      <td>1</td>\n",
       "      <td>0.0432</td>\n",
       "      <td>0.004730</td>\n",
       "      <td>0.001480</td>\n",
       "      <td>0.0428</td>\n",
       "      <td>0.940</td>\n",
       "      <td>100.260</td>\n",
       "    </tr>\n",
       "    <tr>\n",
       "      <th>2</th>\n",
       "      <td>spotify:track:4Dm32oO01YpIubCHaAtKkN</td>\n",
       "      <td>My Life Would Suck Without You</td>\n",
       "      <td>90s</td>\n",
       "      <td>0.526</td>\n",
       "      <td>0.882</td>\n",
       "      <td>9</td>\n",
       "      <td>-4.006</td>\n",
       "      <td>1</td>\n",
       "      <td>0.0509</td>\n",
       "      <td>0.001400</td>\n",
       "      <td>0.000000</td>\n",
       "      <td>0.1440</td>\n",
       "      <td>0.424</td>\n",
       "      <td>144.982</td>\n",
       "    </tr>\n",
       "    <tr>\n",
       "      <th>3</th>\n",
       "      <td>spotify:track:0EQknhinIfbJ12hwMGjOY5</td>\n",
       "      <td>Walkin' On The Sun</td>\n",
       "      <td>90s</td>\n",
       "      <td>0.735</td>\n",
       "      <td>0.974</td>\n",
       "      <td>6</td>\n",
       "      <td>-4.636</td>\n",
       "      <td>1</td>\n",
       "      <td>0.0318</td>\n",
       "      <td>0.430000</td>\n",
       "      <td>0.000000</td>\n",
       "      <td>0.1450</td>\n",
       "      <td>0.967</td>\n",
       "      <td>123.290</td>\n",
       "    </tr>\n",
       "    <tr>\n",
       "      <th>4</th>\n",
       "      <td>spotify:track:5KuuCvS8wK8euQUmH0Zfox</td>\n",
       "      <td>54</td>\n",
       "      <td>90s</td>\n",
       "      <td>0.793</td>\n",
       "      <td>0.681</td>\n",
       "      <td>6</td>\n",
       "      <td>-6.562</td>\n",
       "      <td>0</td>\n",
       "      <td>0.0477</td>\n",
       "      <td>0.021500</td>\n",
       "      <td>0.000612</td>\n",
       "      <td>0.0863</td>\n",
       "      <td>0.792</td>\n",
       "      <td>111.011</td>\n",
       "    </tr>\n",
       "    <tr>\n",
       "      <th>...</th>\n",
       "      <td>...</td>\n",
       "      <td>...</td>\n",
       "      <td>...</td>\n",
       "      <td>...</td>\n",
       "      <td>...</td>\n",
       "      <td>...</td>\n",
       "      <td>...</td>\n",
       "      <td>...</td>\n",
       "      <td>...</td>\n",
       "      <td>...</td>\n",
       "      <td>...</td>\n",
       "      <td>...</td>\n",
       "      <td>...</td>\n",
       "      <td>...</td>\n",
       "    </tr>\n",
       "    <tr>\n",
       "      <th>2847</th>\n",
       "      <td>spotify:track:2atYprr9JsQaLynGhrWhld</td>\n",
       "      <td>Heartbeat</td>\n",
       "      <td>2010s</td>\n",
       "      <td>0.458</td>\n",
       "      <td>0.821</td>\n",
       "      <td>9</td>\n",
       "      <td>-5.076</td>\n",
       "      <td>1</td>\n",
       "      <td>0.0334</td>\n",
       "      <td>0.000594</td>\n",
       "      <td>0.000095</td>\n",
       "      <td>0.1610</td>\n",
       "      <td>0.323</td>\n",
       "      <td>144.460</td>\n",
       "    </tr>\n",
       "    <tr>\n",
       "      <th>2848</th>\n",
       "      <td>spotify:track:1D066zixBwqFYqBhKgdPzp</td>\n",
       "      <td>Fergalicious</td>\n",
       "      <td>2010s</td>\n",
       "      <td>0.906</td>\n",
       "      <td>0.583</td>\n",
       "      <td>8</td>\n",
       "      <td>-7.721</td>\n",
       "      <td>0</td>\n",
       "      <td>0.3170</td>\n",
       "      <td>0.056900</td>\n",
       "      <td>0.000000</td>\n",
       "      <td>0.1260</td>\n",
       "      <td>0.829</td>\n",
       "      <td>129.056</td>\n",
       "    </tr>\n",
       "    <tr>\n",
       "      <th>2849</th>\n",
       "      <td>spotify:track:7aE1vrBiMH5CNQj7uvt3X3</td>\n",
       "      <td>Womanizer</td>\n",
       "      <td>2010s</td>\n",
       "      <td>0.717</td>\n",
       "      <td>0.690</td>\n",
       "      <td>11</td>\n",
       "      <td>-5.236</td>\n",
       "      <td>0</td>\n",
       "      <td>0.0704</td>\n",
       "      <td>0.066100</td>\n",
       "      <td>0.000000</td>\n",
       "      <td>0.1090</td>\n",
       "      <td>0.242</td>\n",
       "      <td>139.005</td>\n",
       "    </tr>\n",
       "    <tr>\n",
       "      <th>2850</th>\n",
       "      <td>spotify:track:4k6Uh1HXdhtusDW5y8Gbvy</td>\n",
       "      <td>Bad Habit</td>\n",
       "      <td>2010s</td>\n",
       "      <td>0.686</td>\n",
       "      <td>0.494</td>\n",
       "      <td>1</td>\n",
       "      <td>-7.093</td>\n",
       "      <td>1</td>\n",
       "      <td>0.0355</td>\n",
       "      <td>0.613000</td>\n",
       "      <td>0.000058</td>\n",
       "      <td>0.4020</td>\n",
       "      <td>0.700</td>\n",
       "      <td>168.946</td>\n",
       "    </tr>\n",
       "    <tr>\n",
       "      <th>2851</th>\n",
       "      <td>spotify:track:3aW0ds4A4tSQDIp75FqWTo</td>\n",
       "      <td>FAKE LOVE</td>\n",
       "      <td>2010s</td>\n",
       "      <td>0.557</td>\n",
       "      <td>0.719</td>\n",
       "      <td>2</td>\n",
       "      <td>-4.515</td>\n",
       "      <td>0</td>\n",
       "      <td>0.0372</td>\n",
       "      <td>0.002670</td>\n",
       "      <td>0.000000</td>\n",
       "      <td>0.3060</td>\n",
       "      <td>0.344</td>\n",
       "      <td>77.501</td>\n",
       "    </tr>\n",
       "  </tbody>\n",
       "</table>\n",
       "<p>10895 rows × 14 columns</p>\n",
       "</div>"
      ],
      "text/plain": [
       "                                 track_uri                      track_name  \\\n",
       "0     spotify:track:21qnJAMtzC6S5SESuqQLEK                 Pump Up The Jam   \n",
       "1     spotify:track:0eVZhPIexAYqdwKNqSp3Qm                 All Outta Angst   \n",
       "2     spotify:track:4Dm32oO01YpIubCHaAtKkN  My Life Would Suck Without You   \n",
       "3     spotify:track:0EQknhinIfbJ12hwMGjOY5              Walkin' On The Sun   \n",
       "4     spotify:track:5KuuCvS8wK8euQUmH0Zfox                              54   \n",
       "...                                    ...                             ...   \n",
       "2847  spotify:track:2atYprr9JsQaLynGhrWhld                       Heartbeat   \n",
       "2848  spotify:track:1D066zixBwqFYqBhKgdPzp                    Fergalicious   \n",
       "2849  spotify:track:7aE1vrBiMH5CNQj7uvt3X3                       Womanizer   \n",
       "2850  spotify:track:4k6Uh1HXdhtusDW5y8Gbvy                       Bad Habit   \n",
       "2851  spotify:track:3aW0ds4A4tSQDIp75FqWTo                       FAKE LOVE   \n",
       "\n",
       "     decade  danceability  energy  key  loudness  mode  speechiness  \\\n",
       "0       90s         0.885   0.844   10    -9.225     0       0.0733   \n",
       "1       90s         0.637   0.969    0    -4.682     1       0.0432   \n",
       "2       90s         0.526   0.882    9    -4.006     1       0.0509   \n",
       "3       90s         0.735   0.974    6    -4.636     1       0.0318   \n",
       "4       90s         0.793   0.681    6    -6.562     0       0.0477   \n",
       "...     ...           ...     ...  ...       ...   ...          ...   \n",
       "2847  2010s         0.458   0.821    9    -5.076     1       0.0334   \n",
       "2848  2010s         0.906   0.583    8    -7.721     0       0.3170   \n",
       "2849  2010s         0.717   0.690   11    -5.236     0       0.0704   \n",
       "2850  2010s         0.686   0.494    1    -7.093     1       0.0355   \n",
       "2851  2010s         0.557   0.719    2    -4.515     0       0.0372   \n",
       "\n",
       "      acousticness  instrumentalness  liveness  valence    tempo  \n",
       "0         0.014700          0.000004    0.0494    0.715  124.602  \n",
       "1         0.004730          0.001480    0.0428    0.940  100.260  \n",
       "2         0.001400          0.000000    0.1440    0.424  144.982  \n",
       "3         0.430000          0.000000    0.1450    0.967  123.290  \n",
       "4         0.021500          0.000612    0.0863    0.792  111.011  \n",
       "...            ...               ...       ...      ...      ...  \n",
       "2847      0.000594          0.000095    0.1610    0.323  144.460  \n",
       "2848      0.056900          0.000000    0.1260    0.829  129.056  \n",
       "2849      0.066100          0.000000    0.1090    0.242  139.005  \n",
       "2850      0.613000          0.000058    0.4020    0.700  168.946  \n",
       "2851      0.002670          0.000000    0.3060    0.344   77.501  \n",
       "\n",
       "[10895 rows x 14 columns]"
      ]
     },
     "execution_count": 15,
     "metadata": {},
     "output_type": "execute_result"
    }
   ],
   "source": [
    "spotify_songs"
   ]
  },
  {
   "cell_type": "code",
   "execution_count": 16,
   "metadata": {},
   "outputs": [],
   "source": [
    "spotify_songs.to_csv('spotify_songs_new.csv',header=True,index=False)"
   ]
  },
  {
   "attachments": {},
   "cell_type": "markdown",
   "metadata": {},
   "source": [
    "### Remove duplicate"
   ]
  },
  {
   "cell_type": "code",
   "execution_count": 17,
   "metadata": {},
   "outputs": [],
   "source": [
    "spotify_songs = pd.read_csv('spotify_songs_new.csv')"
   ]
  },
  {
   "cell_type": "code",
   "execution_count": 18,
   "metadata": {},
   "outputs": [],
   "source": [
    "df_mask  = spotify_songs['track_uri'].duplicated(keep=False)"
   ]
  },
  {
   "cell_type": "code",
   "execution_count": 19,
   "metadata": {},
   "outputs": [],
   "source": [
    "spotify_songs_unique = spotify_songs[~df_mask]"
   ]
  },
  {
   "cell_type": "code",
   "execution_count": 20,
   "metadata": {},
   "outputs": [],
   "source": [
    "spotify_songs_unique['decade'] = spotify_songs_unique['decade'].apply(lambda x : '10s' if(x=='2010s') else x )"
   ]
  },
  {
   "cell_type": "code",
   "execution_count": 21,
   "metadata": {},
   "outputs": [],
   "source": [
    "spotify_songs_unique.to_csv('spotify_songs_new.csv',header=True,index=False)"
   ]
  }
 ],
 "metadata": {
  "kernelspec": {
   "display_name": "Python 3",
   "language": "python",
   "name": "python3"
  },
  "language_info": {
   "codemirror_mode": {
    "name": "ipython",
    "version": 3
   },
   "file_extension": ".py",
   "mimetype": "text/x-python",
   "name": "python",
   "nbconvert_exporter": "python",
   "pygments_lexer": "ipython3",
   "version": "3.9.7"
  },
  "orig_nbformat": 4
 },
 "nbformat": 4,
 "nbformat_minor": 2
}
